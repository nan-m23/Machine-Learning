{
 "cells": [
  {
   "cell_type": "markdown",
   "metadata": {},
   "source": [
    "    L4 支持向量机"
   ]
  },
  {
   "cell_type": "markdown",
   "metadata": {},
   "source": [
    "支持向量机也是一个二分类模型。它因最大化特征间隔而区别于感知机。"
   ]
  },
  {
   "cell_type": "markdown",
   "metadata": {},
   "source": [
    "支持向量机可分为：线性可分、线性、非线性支持向量机。"
   ]
  },
  {
   "cell_type": "markdown",
   "metadata": {},
   "source": [
    "分别对应对象为：线性可分、近似线性可分、线性不可分时的算法。"
   ]
  },
  {
   "cell_type": "code",
   "execution_count": 1,
   "metadata": {},
   "outputs": [],
   "source": [
    "import pandas as pd\n",
    "import numpy as np\n",
    "import matplotlib.pyplot as plt"
   ]
  },
  {
   "cell_type": "markdown",
   "metadata": {},
   "source": [
    "对于一组二维的线性可分的对象"
   ]
  },
  {
   "cell_type": "code",
   "execution_count": 2,
   "metadata": {
    "scrolled": false
   },
   "outputs": [
    {
     "data": {
      "text/html": [
       "<div>\n",
       "<style scoped>\n",
       "    .dataframe tbody tr th:only-of-type {\n",
       "        vertical-align: middle;\n",
       "    }\n",
       "\n",
       "    .dataframe tbody tr th {\n",
       "        vertical-align: top;\n",
       "    }\n",
       "\n",
       "    .dataframe thead th {\n",
       "        text-align: right;\n",
       "    }\n",
       "</style>\n",
       "<table border=\"1\" class=\"dataframe\">\n",
       "  <thead>\n",
       "    <tr style=\"text-align: right;\">\n",
       "      <th></th>\n",
       "      <th>x1</th>\n",
       "      <th>x2</th>\n",
       "      <th>y</th>\n",
       "    </tr>\n",
       "  </thead>\n",
       "  <tbody>\n",
       "    <tr>\n",
       "      <th>0</th>\n",
       "      <td>0.933084</td>\n",
       "      <td>7.872566</td>\n",
       "      <td>1</td>\n",
       "    </tr>\n",
       "    <tr>\n",
       "      <th>1</th>\n",
       "      <td>0.276236</td>\n",
       "      <td>5.843802</td>\n",
       "      <td>1</td>\n",
       "    </tr>\n",
       "    <tr>\n",
       "      <th>2</th>\n",
       "      <td>0.109101</td>\n",
       "      <td>5.587345</td>\n",
       "      <td>1</td>\n",
       "    </tr>\n",
       "    <tr>\n",
       "      <th>3</th>\n",
       "      <td>0.002496</td>\n",
       "      <td>5.204072</td>\n",
       "      <td>1</td>\n",
       "    </tr>\n",
       "    <tr>\n",
       "      <th>4</th>\n",
       "      <td>0.453277</td>\n",
       "      <td>6.742317</td>\n",
       "      <td>1</td>\n",
       "    </tr>\n",
       "    <tr>\n",
       "      <th>5</th>\n",
       "      <td>0.145919</td>\n",
       "      <td>8.583816</td>\n",
       "      <td>1</td>\n",
       "    </tr>\n",
       "    <tr>\n",
       "      <th>6</th>\n",
       "      <td>0.497049</td>\n",
       "      <td>6.063797</td>\n",
       "      <td>1</td>\n",
       "    </tr>\n",
       "    <tr>\n",
       "      <th>7</th>\n",
       "      <td>0.385640</td>\n",
       "      <td>7.513975</td>\n",
       "      <td>1</td>\n",
       "    </tr>\n",
       "    <tr>\n",
       "      <th>8</th>\n",
       "      <td>0.775493</td>\n",
       "      <td>6.720943</td>\n",
       "      <td>1</td>\n",
       "    </tr>\n",
       "    <tr>\n",
       "      <th>9</th>\n",
       "      <td>0.991862</td>\n",
       "      <td>7.066172</td>\n",
       "      <td>1</td>\n",
       "    </tr>\n",
       "    <tr>\n",
       "      <th>10</th>\n",
       "      <td>0.548260</td>\n",
       "      <td>7.531724</td>\n",
       "      <td>1</td>\n",
       "    </tr>\n",
       "    <tr>\n",
       "      <th>11</th>\n",
       "      <td>0.860510</td>\n",
       "      <td>10.985587</td>\n",
       "      <td>1</td>\n",
       "    </tr>\n",
       "    <tr>\n",
       "      <th>12</th>\n",
       "      <td>0.145204</td>\n",
       "      <td>9.083394</td>\n",
       "      <td>1</td>\n",
       "    </tr>\n",
       "    <tr>\n",
       "      <th>13</th>\n",
       "      <td>0.178553</td>\n",
       "      <td>6.484650</td>\n",
       "      <td>1</td>\n",
       "    </tr>\n",
       "    <tr>\n",
       "      <th>14</th>\n",
       "      <td>0.017823</td>\n",
       "      <td>9.433774</td>\n",
       "      <td>1</td>\n",
       "    </tr>\n",
       "    <tr>\n",
       "      <th>15</th>\n",
       "      <td>0.432650</td>\n",
       "      <td>6.543020</td>\n",
       "      <td>1</td>\n",
       "    </tr>\n",
       "    <tr>\n",
       "      <th>16</th>\n",
       "      <td>0.936441</td>\n",
       "      <td>9.604998</td>\n",
       "      <td>1</td>\n",
       "    </tr>\n",
       "    <tr>\n",
       "      <th>17</th>\n",
       "      <td>0.507588</td>\n",
       "      <td>8.015283</td>\n",
       "      <td>1</td>\n",
       "    </tr>\n",
       "    <tr>\n",
       "      <th>18</th>\n",
       "      <td>0.805510</td>\n",
       "      <td>7.786493</td>\n",
       "      <td>1</td>\n",
       "    </tr>\n",
       "    <tr>\n",
       "      <th>19</th>\n",
       "      <td>0.578380</td>\n",
       "      <td>9.951269</td>\n",
       "      <td>1</td>\n",
       "    </tr>\n",
       "    <tr>\n",
       "      <th>20</th>\n",
       "      <td>0.791796</td>\n",
       "      <td>4.495801</td>\n",
       "      <td>-1</td>\n",
       "    </tr>\n",
       "    <tr>\n",
       "      <th>21</th>\n",
       "      <td>0.161156</td>\n",
       "      <td>2.012521</td>\n",
       "      <td>-1</td>\n",
       "    </tr>\n",
       "    <tr>\n",
       "      <th>22</th>\n",
       "      <td>0.639802</td>\n",
       "      <td>4.246283</td>\n",
       "      <td>-1</td>\n",
       "    </tr>\n",
       "    <tr>\n",
       "      <th>23</th>\n",
       "      <td>0.047747</td>\n",
       "      <td>2.892619</td>\n",
       "      <td>-1</td>\n",
       "    </tr>\n",
       "    <tr>\n",
       "      <th>24</th>\n",
       "      <td>0.033859</td>\n",
       "      <td>2.803198</td>\n",
       "      <td>-1</td>\n",
       "    </tr>\n",
       "    <tr>\n",
       "      <th>25</th>\n",
       "      <td>0.502563</td>\n",
       "      <td>1.218261</td>\n",
       "      <td>-1</td>\n",
       "    </tr>\n",
       "    <tr>\n",
       "      <th>26</th>\n",
       "      <td>0.972834</td>\n",
       "      <td>0.141495</td>\n",
       "      <td>-1</td>\n",
       "    </tr>\n",
       "    <tr>\n",
       "      <th>27</th>\n",
       "      <td>0.711813</td>\n",
       "      <td>4.403909</td>\n",
       "      <td>-1</td>\n",
       "    </tr>\n",
       "    <tr>\n",
       "      <th>28</th>\n",
       "      <td>0.068868</td>\n",
       "      <td>2.715262</td>\n",
       "      <td>-1</td>\n",
       "    </tr>\n",
       "    <tr>\n",
       "      <th>29</th>\n",
       "      <td>0.713413</td>\n",
       "      <td>2.860314</td>\n",
       "      <td>-1</td>\n",
       "    </tr>\n",
       "    <tr>\n",
       "      <th>30</th>\n",
       "      <td>0.885986</td>\n",
       "      <td>4.460851</td>\n",
       "      <td>-1</td>\n",
       "    </tr>\n",
       "    <tr>\n",
       "      <th>31</th>\n",
       "      <td>0.675263</td>\n",
       "      <td>3.328428</td>\n",
       "      <td>-1</td>\n",
       "    </tr>\n",
       "    <tr>\n",
       "      <th>32</th>\n",
       "      <td>0.232808</td>\n",
       "      <td>1.392545</td>\n",
       "      <td>-1</td>\n",
       "    </tr>\n",
       "    <tr>\n",
       "      <th>33</th>\n",
       "      <td>0.740618</td>\n",
       "      <td>3.847245</td>\n",
       "      <td>-1</td>\n",
       "    </tr>\n",
       "    <tr>\n",
       "      <th>34</th>\n",
       "      <td>0.870377</td>\n",
       "      <td>0.281641</td>\n",
       "      <td>-1</td>\n",
       "    </tr>\n",
       "    <tr>\n",
       "      <th>35</th>\n",
       "      <td>0.390792</td>\n",
       "      <td>-3.463883</td>\n",
       "      <td>-1</td>\n",
       "    </tr>\n",
       "    <tr>\n",
       "      <th>36</th>\n",
       "      <td>0.542860</td>\n",
       "      <td>1.625230</td>\n",
       "      <td>-1</td>\n",
       "    </tr>\n",
       "    <tr>\n",
       "      <th>37</th>\n",
       "      <td>0.684899</td>\n",
       "      <td>3.297543</td>\n",
       "      <td>-1</td>\n",
       "    </tr>\n",
       "    <tr>\n",
       "      <th>38</th>\n",
       "      <td>0.414795</td>\n",
       "      <td>-0.957847</td>\n",
       "      <td>-1</td>\n",
       "    </tr>\n",
       "    <tr>\n",
       "      <th>39</th>\n",
       "      <td>0.715802</td>\n",
       "      <td>3.964066</td>\n",
       "      <td>-1</td>\n",
       "    </tr>\n",
       "  </tbody>\n",
       "</table>\n",
       "</div>"
      ],
      "text/plain": [
       "          x1         x2  y\n",
       "0   0.933084   7.872566  1\n",
       "1   0.276236   5.843802  1\n",
       "2   0.109101   5.587345  1\n",
       "3   0.002496   5.204072  1\n",
       "4   0.453277   6.742317  1\n",
       "5   0.145919   8.583816  1\n",
       "6   0.497049   6.063797  1\n",
       "7   0.385640   7.513975  1\n",
       "8   0.775493   6.720943  1\n",
       "9   0.991862   7.066172  1\n",
       "10  0.548260   7.531724  1\n",
       "11  0.860510  10.985587  1\n",
       "12  0.145204   9.083394  1\n",
       "13  0.178553   6.484650  1\n",
       "14  0.017823   9.433774  1\n",
       "15  0.432650   6.543020  1\n",
       "16  0.936441   9.604998  1\n",
       "17  0.507588   8.015283  1\n",
       "18  0.805510   7.786493  1\n",
       "19  0.578380   9.951269  1\n",
       "20  0.791796   4.495801 -1\n",
       "21  0.161156   2.012521 -1\n",
       "22  0.639802   4.246283 -1\n",
       "23  0.047747   2.892619 -1\n",
       "24  0.033859   2.803198 -1\n",
       "25  0.502563   1.218261 -1\n",
       "26  0.972834   0.141495 -1\n",
       "27  0.711813   4.403909 -1\n",
       "28  0.068868   2.715262 -1\n",
       "29  0.713413   2.860314 -1\n",
       "30  0.885986   4.460851 -1\n",
       "31  0.675263   3.328428 -1\n",
       "32  0.232808   1.392545 -1\n",
       "33  0.740618   3.847245 -1\n",
       "34  0.870377   0.281641 -1\n",
       "35  0.390792  -3.463883 -1\n",
       "36  0.542860   1.625230 -1\n",
       "37  0.684899   3.297543 -1\n",
       "38  0.414795  -0.957847 -1\n",
       "39  0.715802   3.964066 -1"
      ]
     },
     "execution_count": 2,
     "metadata": {},
     "output_type": "execute_result"
    }
   ],
   "source": [
    "x1 = np.random.uniform(0,1,20)\n",
    "diff1 = np.random.chisquare(2,20)\n",
    "y1 = 2*x1 + 5 + diff1\n",
    "df1 = pd.DataFrame((x1,y1),index = ['x1','x2']).T\n",
    "df1['y'] = 1\n",
    "\n",
    "x2 = np.random.uniform(0,1,20)\n",
    "diff2 = np.random.chisquare(2,20)\n",
    "y2 = 2*x2 + 3 - diff2\n",
    "df2 = pd.DataFrame((x2,y2),index = ['x1','x2']).T\n",
    "df2['y'] = -1\n",
    "\n",
    "data = pd.concat([df1,df2],ignore_index = True)\n",
    "data"
   ]
  },
  {
   "cell_type": "code",
   "execution_count": 3,
   "metadata": {},
   "outputs": [
    {
     "data": {
      "text/plain": [
       "<function matplotlib.pyplot.show(close=None, block=None)>"
      ]
     },
     "execution_count": 3,
     "metadata": {},
     "output_type": "execute_result"
    },
    {
     "data": {
      "image/png": "[encoded data removed]",
      "text/plain": [
       "<Figure size 432x288 with 1 Axes>"
      ]
     },
     "metadata": {
      "needs_background": "light"
     },
     "output_type": "display_data"
    }
   ],
   "source": [
    "positive_x = data[['x1','x2']][data.y == 1]\n",
    "negative_x = data[['x1','x2']][data.y != 1]\n",
    "plt.scatter(positive_x['x1'] , positive_x['x2'] , color = 'r')\n",
    "plt.scatter(negative_x['x1'] , negative_x['x2'] , color = 'b')\n",
    "plt.title('Random Sample')\n",
    "plt.show"
   ]
  },
  {
   "cell_type": "markdown",
   "metadata": {},
   "source": [
    "支持向量机模型的对偶问题解法："
   ]
  },
  {
   "cell_type": "markdown",
   "metadata": {},
   "source": [
    "    凸二次规划问题：SMO（序列最小最优化算法）法"
   ]
  },
  {
   "cell_type": "markdown",
   "metadata": {},
   "source": [
    "首先学习 坐标上升法："
   ]
  },
  {
   "cell_type": "code",
   "execution_count": 4,
   "metadata": {},
   "outputs": [],
   "source": [
    "def f(x):\n",
    "\n",
    "    f = -(x[0]**2)-2*(x[1]**2)-3*(x[2]**2)+2*x[0]*x[1]+2*x[0]*x[2]-4*x[1]*x[2]+6\n",
    "    \n",
    "    return f"
   ]
  },
  {
   "cell_type": "markdown",
   "metadata": {},
   "source": [
    "求解该函数的最大值"
   ]
  },
  {
   "cell_type": "code",
   "execution_count": 5,
   "metadata": {},
   "outputs": [],
   "source": [
    "err = 1.0e-10\n",
    "x = [1.0 , 1.0 , 1.0]\n",
    "f_0 = f(x)"
   ]
  },
  {
   "cell_type": "code",
   "execution_count": 6,
   "metadata": {},
   "outputs": [],
   "source": [
    "while 1:\n",
    "    x[0] = x[1] + x[2]\n",
    "    x[1] = x[0] / 2 - x[2]\n",
    "    x[2] = x[0] / 3 - 2 * x[1] / 3\n",
    "    \n",
    "    f_t = f(x)\n",
    "    \n",
    "    if abs(f_t - f_0) < err:\n",
    "        break\n",
    "    f_0 = f_t"
   ]
  },
  {
   "cell_type": "code",
   "execution_count": 7,
   "metadata": {
    "scrolled": true
   },
   "outputs": [
    {
     "data": {
      "text/plain": [
       "5.999999999836933"
      ]
     },
     "execution_count": 7,
     "metadata": {},
     "output_type": "execute_result"
    }
   ],
   "source": [
    "f_0"
   ]
  },
  {
   "cell_type": "code",
   "execution_count": 8,
   "metadata": {
    "scrolled": true
   },
   "outputs": [
    {
     "data": {
      "text/plain": [
       "[-1.0426464811394665e-05, -1.0428327456543898e-05, 3.4767300338977098e-06]"
      ]
     },
     "execution_count": 8,
     "metadata": {},
     "output_type": "execute_result"
    }
   ],
   "source": [
    "x"
   ]
  },
  {
   "cell_type": "markdown",
   "metadata": {},
   "source": [
    "SMO算法的思想与 坐标上升法 相同"
   ]
  },
  {
   "cell_type": "markdown",
   "metadata": {},
   "source": [
    "SMO算法解支持向量机模型："
   ]
  },
  {
   "cell_type": "markdown",
   "metadata": {},
   "source": [
    "参考：https://blog.csdn.net/slx_share/article/details/80139487"
   ]
  },
  {
   "cell_type": "code",
   "execution_count": 9,
   "metadata": {},
   "outputs": [],
   "source": [
    "class SVM:\n",
    "    \n",
    "    def __init__(self , ϵ = 1.0e-10 , maxstep = 2000 , \n",
    "                 C = 1.0 , kernel = 'linear' , kernel_par = 0.0):\n",
    "        \n",
    "        self.ϵ = ϵ                   #误差精度\n",
    "        self.maxstep = maxstep       #最大迭代次数\n",
    "        self.C = C                   #惩罚因子\n",
    "        self.kernel = kernel         #核函数：linear：线性核函数；\n",
    "                                     #       polynomials：多项式核函数；\n",
    "                                     #       gaussian：高斯核函数                          \n",
    "        self.kernel_par = kernel_par #核函数参数\n",
    "        \n",
    "        self.X = None                #训练集的特征\n",
    "        self.Y = None                #训练集的标签\n",
    "        self.N = None                #训练集的样本量\n",
    "        self.a = None                #[1xn] 拉格朗日乘子\n",
    "        self.b = 0.0                 #阀值\n",
    "        \n",
    "        self.err = None              #[1xn] 每个样本的预测误差\n",
    "\n",
    "        \n",
    "    def init_parameters(self , x_data , y_data):\n",
    "        \n",
    "        #初始化参数\n",
    "        \n",
    "        self.X = x_data\n",
    "        self.Y = y_data\n",
    "        self.N = len(y_data)\n",
    "        self.a = np.zeros(self.N)\n",
    "        \n",
    "        self.err = -self.Y\n",
    "        return \n",
    "    \n",
    "    \n",
    "    def kernel_function(self , x1 , x2):\n",
    "        \n",
    "        #核函数\n",
    "        \n",
    "        if self.kernel == 'linear':\n",
    "            return np.dot(x1 , x2)\n",
    "        \n",
    "        elif self.kernel == 'polynomials':\n",
    "            dot1 = np.dot(x1 , x2)\n",
    "            return np.sum((dot1 + 1) ** self.kernel_par)\n",
    "        \n",
    "        elif self.kernel == 'gaussian':\n",
    "            return np.sum(np.exp(-np.square(x1 - x2)\n",
    "                                 /(2 * (self.kernel_par ** 2))))\n",
    "    \n",
    "        else : exit('kernel function error')\n",
    "            \n",
    "    \n",
    "    def KKT_condition(self , y , err , a):\n",
    "        \n",
    "        # 判断是否满足KTT条件\n",
    "        \n",
    "        r = y * err\n",
    "        \n",
    "        # （r<0,yg<1 , alpha=C） 或 （r>0,yg>1 , alpha=0）则符合\n",
    "        \n",
    "        if (r < -self.ϵ and a < self.C) or (r > self.ϵ and a > 0):\n",
    "            return False\n",
    "        \n",
    "        return True\n",
    "    \n",
    "    \n",
    "    def select_a2(self , ind1):\n",
    "        \n",
    "        #挑选第二个a,返回其索引\n",
    "        #《统》P147第一种方法\n",
    "        \n",
    "        E1=self.err[ind1]\n",
    "        ind2 = None\n",
    "        max_diff = 0.0 #初始化最大的|E1-E2|\n",
    "        exist_errors = list(np.nonzero(self.err)[0]) #存在预测误差的样本索引\n",
    "        \n",
    "        if len(exist_errors) > 1:\n",
    "            for i in exist_errors:\n",
    "                if i == ind1:\n",
    "                    #ind2不与ind1相同\n",
    "                    continue\n",
    "                    \n",
    "                diff = abs(self.err[i] - E1)\n",
    "                \n",
    "                if diff > max_diff:\n",
    "                    max_diff = diff\n",
    "                    ind2 = i\n",
    "       \n",
    "        return ind2\n",
    "    \n",
    "    \n",
    "    def update(self , ind1 , ind2):\n",
    "        \n",
    "        #更新 a , err , E , b\n",
    "        #《统》P148\n",
    "        \n",
    "        a_1_old = self.a[ind1]\n",
    "        a_2_old = self.a[ind2]\n",
    "        \n",
    "        y_1 = self.Y[ind1]\n",
    "        y_2 = self.Y[ind2]\n",
    "        \n",
    "        if y_1 == y_2:\n",
    "            L = max(0 , a_2_old + a_1_old - self.C)\n",
    "            H = min(self.C , a_2_old + a_1_old)\n",
    "            \n",
    "        else:\n",
    "            L = max(0 , a_2_old - a_1_old)\n",
    "            H = min(self.C , self.C + a_2_old - a_1_old)\n",
    "        \n",
    "        if L == H:\n",
    "            return 0\n",
    "        \n",
    "        E1 = self.err[ind1]\n",
    "        E2 = self.err[ind2]\n",
    "        \n",
    "        K11 = self.kernel_function(self.X[ind1] , self.X[ind1])\n",
    "        K12 = self.kernel_function(self.X[ind1] , self.X[ind2])\n",
    "        K22 = self.kernel_function(self.X[ind2] , self.X[ind2])\n",
    "        \n",
    "        #更新a2\n",
    "        η = K11 + K22 - 2 * K12\n",
    "        a_2_new_unc = a_2_old + y_2 * (E1 - E2) / η\n",
    "        \n",
    "        if a_2_new_unc > H:\n",
    "            a_2_new = H\n",
    "        elif a_2_new_unc < L:\n",
    "            a_2_new = L\n",
    "        else:\n",
    "            a_2_new = a_2_new_unc\n",
    "            \n",
    "        #更新a1\n",
    "        a_1_new = a_1_old + y_1 * y_2 * (a_2_old - a_2_new)\n",
    "        \n",
    "        #放进a里\n",
    "        self.a[ind1] = a_1_new\n",
    "        self.a[ind2] = a_2_new\n",
    "        \n",
    "        #更新b\n",
    "        b_1_new = -E1 - y_1 * K11 * (a_1_new - a_1_old) - y_2 * K12 * (a_2_new - a_2_old) + self.b\n",
    "        b_2_new = -E2 - y_1 * K12 * (a_1_new - a_1_old) - y_2 * K22 * (a_2_new - a_2_old) + self.b\n",
    "        \n",
    "        if 0 < a_1_new < self.C:\n",
    "            self.b = b_1_new\n",
    "        elif 0 < a_2_new < self.C:\n",
    "            self.b = b_2_new\n",
    "        else :\n",
    "            self.b  = (b_1_new + b_2_new) / 2\n",
    "            \n",
    "        #更新err\n",
    "        self.err[ind1] = np.sum(self.Y * self.a * self.kernel_function(self.X , self.X[ind1])) + self.b - self.Y[ind1]\n",
    "        self.err[ind2] = np.sum(self.Y * self.a * self.kernel_function(self.X , self.X[ind2])) + self.b - self.Y[ind2]\n",
    "        return 1\n",
    "    \n",
    "    \n",
    "    def learn(self , x_data , y_data):\n",
    "        \n",
    "        #SMO算法训练数据集\n",
    "        #《统》P149\n",
    "        \n",
    "        self.init_parameters(x_data , y_data)\n",
    "\n",
    "        step = 0\n",
    "        \n",
    "        while step < self.maxstep:\n",
    "            for i in range(self.N):\n",
    "                \n",
    "                #挑选第一个a1\n",
    "                if not self.KKT_condition(y_data[i] , self.err[i] , self.a[i]):\n",
    "                    ind1 = i\n",
    "                    \n",
    "                    #挑选a2\n",
    "                    ind2 = self.select_a2(ind1)\n",
    "                    \n",
    "                    #更新\n",
    "                    self.update(ind1 , ind2)\n",
    "            \n",
    "            step += 1\n",
    "        \n",
    "        \n",
    "        return self.a\n",
    "    \n",
    "    \n",
    "    def predict(self , x):\n",
    "        \n",
    "        #利用训练过的模型预测\n",
    "        \n",
    "        g=np.sum(self.a * self.y\n",
    "                 * self.kernel_function(self.x , x))\n",
    "        \n",
    "        return np.sign(g + self.b)\n",
    "                \n",
    "        "
   ]
  },
  {
   "cell_type": "code",
   "execution_count": 10,
   "metadata": {},
   "outputs": [],
   "source": [
    "svm = SVM(ϵ = 1.0e-10 , maxstep = 2000 , \n",
    "          C = 0.5 , kernel = 'linear' , kernel_par = 0.0)"
   ]
  },
  {
   "cell_type": "code",
   "execution_count": 11,
   "metadata": {},
   "outputs": [],
   "source": [
    "x_data = np.array(data[['x1' , 'x2']])\n",
    "y_data = np.array(data['y'])"
   ]
  },
  {
   "cell_type": "code",
   "execution_count": 12,
   "metadata": {},
   "outputs": [],
   "source": [
    "a= svm.learn(x_data , y_data)"
   ]
  },
  {
   "cell_type": "code",
   "execution_count": 13,
   "metadata": {},
   "outputs": [
    {
     "name": "stderr",
     "output_type": "stream",
     "text": [
      "<ipython-input-13-09b54b6ccec5>:1: DeprecationWarning: Calling np.sum(generator) is deprecated, and in the future will give a different result. Use np.sum(np.fromiter(generator)) or the python sum builtin instead.\n",
      "  w1,w2 = np.sum(a[i] * y_data[i] * x_data[i] for i in range(len(y_data)))\n"
     ]
    }
   ],
   "source": [
    "w1,w2 = np.sum(a[i] * y_data[i] * x_data[i] for i in range(len(y_data)))"
   ]
  },
  {
   "cell_type": "code",
   "execution_count": 14,
   "metadata": {},
   "outputs": [],
   "source": [
    "i = np.nonzero(a)[0][0]"
   ]
  },
  {
   "cell_type": "code",
   "execution_count": 15,
   "metadata": {},
   "outputs": [
    {
     "name": "stderr",
     "output_type": "stream",
     "text": [
      "<ipython-input-15-7ee98dcb1574>:1: DeprecationWarning: Calling np.sum(generator) is deprecated, and in the future will give a different result. Use np.sum(np.fromiter(generator)) or the python sum builtin instead.\n",
      "  b = y_data[i] - np.sum(y_data[j] * a[j] * np.dot(x_data[j] , x_data[i]) for j in range(len(y_data)))\n"
     ]
    }
   ],
   "source": [
    "b = y_data[i] - np.sum(y_data[j] * a[j] * np.dot(x_data[j] , x_data[i]) for j in range(len(y_data)))"
   ]
  },
  {
   "cell_type": "code",
   "execution_count": 16,
   "metadata": {},
   "outputs": [
    {
     "data": {
      "image/png": "[encoded data removed]",
      "text/plain": [
       "<Figure size 432x288 with 1 Axes>"
      ]
     },
     "metadata": {
      "needs_background": "light"
     },
     "output_type": "display_data"
    }
   ],
   "source": [
    "x1 = np.linspace(0,1)\n",
    "x2 = - ( w1 * x1 + b ) / w2\n",
    "plt.plot(x1 , x2)\n",
    "positive_x = data[['x1','x2']][data.y == 1]\n",
    "negative_x = data[['x1','x2']][data.y != 1]\n",
    "plt.scatter(positive_x['x1'] , positive_x['x2'] , color = 'r')\n",
    "plt.scatter(negative_x['x1'] , negative_x['x2'] , color = 'b')\n",
    "plt.title('SVM')\n",
    "plt.show()"
   ]
  },
  {
   "cell_type": "code",
   "execution_count": null,
   "metadata": {},
   "outputs": [],
   "source": []
  }
 ],
 "metadata": {
  "kernelspec": {
   "display_name": "Python 3",
   "language": "python",
   "name": "python3"
  },
  "language_info": {
   "codemirror_mode": {
    "name": "ipython",
    "version": 3
   },
   "file_extension": ".py",
   "mimetype": "text/x-python",
   "name": "python",
   "nbconvert_exporter": "python",
   "pygments_lexer": "ipython3",
   "version": "3.8.5"
  }
 },
 "nbformat": 4,
 "nbformat_minor": 4
}
