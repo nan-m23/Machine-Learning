{
 "cells": [
  {
   "cell_type": "markdown",
   "metadata": {},
   "source": [
    "Lesson2：感知机模型（Perceptron）"
   ]
  },
  {
   "cell_type": "markdown",
   "metadata": {},
   "source": [
    "    感知机模型用来解决分类问题"
   ]
  },
  {
   "cell_type": "code",
   "execution_count": 1,
   "metadata": {},
   "outputs": [],
   "source": [
    "import pandas as pd\n",
    "import numpy as np\n",
    "import matplotlib.pyplot as plt"
   ]
  },
  {
   "cell_type": "markdown",
   "metadata": {},
   "source": [
    "对于一组二维的对象:"
   ]
  },
  {
   "cell_type": "code",
   "execution_count": 2,
   "metadata": {
    "scrolled": false
   },
   "outputs": [
    {
     "data": {
      "text/html": [
       "<div>\n",
       "<style scoped>\n",
       "    .dataframe tbody tr th:only-of-type {\n",
       "        vertical-align: middle;\n",
       "    }\n",
       "\n",
       "    .dataframe tbody tr th {\n",
       "        vertical-align: top;\n",
       "    }\n",
       "\n",
       "    .dataframe thead th {\n",
       "        text-align: right;\n",
       "    }\n",
       "</style>\n",
       "<table border=\"1\" class=\"dataframe\">\n",
       "  <thead>\n",
       "    <tr style=\"text-align: right;\">\n",
       "      <th></th>\n",
       "      <th>x1</th>\n",
       "      <th>x2</th>\n",
       "      <th>y</th>\n",
       "    </tr>\n",
       "  </thead>\n",
       "  <tbody>\n",
       "    <tr>\n",
       "      <th>0</th>\n",
       "      <td>0.968487</td>\n",
       "      <td>7.407566</td>\n",
       "      <td>1</td>\n",
       "    </tr>\n",
       "    <tr>\n",
       "      <th>1</th>\n",
       "      <td>0.958163</td>\n",
       "      <td>7.594384</td>\n",
       "      <td>1</td>\n",
       "    </tr>\n",
       "    <tr>\n",
       "      <th>2</th>\n",
       "      <td>0.050720</td>\n",
       "      <td>6.812628</td>\n",
       "      <td>1</td>\n",
       "    </tr>\n",
       "    <tr>\n",
       "      <th>3</th>\n",
       "      <td>0.761004</td>\n",
       "      <td>7.040956</td>\n",
       "      <td>1</td>\n",
       "    </tr>\n",
       "    <tr>\n",
       "      <th>4</th>\n",
       "      <td>0.147402</td>\n",
       "      <td>6.289465</td>\n",
       "      <td>1</td>\n",
       "    </tr>\n",
       "    <tr>\n",
       "      <th>5</th>\n",
       "      <td>0.533786</td>\n",
       "      <td>8.782700</td>\n",
       "      <td>1</td>\n",
       "    </tr>\n",
       "    <tr>\n",
       "      <th>6</th>\n",
       "      <td>0.347799</td>\n",
       "      <td>6.574658</td>\n",
       "      <td>1</td>\n",
       "    </tr>\n",
       "    <tr>\n",
       "      <th>7</th>\n",
       "      <td>0.734882</td>\n",
       "      <td>6.856285</td>\n",
       "      <td>1</td>\n",
       "    </tr>\n",
       "    <tr>\n",
       "      <th>8</th>\n",
       "      <td>0.920678</td>\n",
       "      <td>7.229342</td>\n",
       "      <td>1</td>\n",
       "    </tr>\n",
       "    <tr>\n",
       "      <th>9</th>\n",
       "      <td>0.423708</td>\n",
       "      <td>8.330130</td>\n",
       "      <td>1</td>\n",
       "    </tr>\n",
       "    <tr>\n",
       "      <th>10</th>\n",
       "      <td>0.556530</td>\n",
       "      <td>7.101743</td>\n",
       "      <td>1</td>\n",
       "    </tr>\n",
       "    <tr>\n",
       "      <th>11</th>\n",
       "      <td>0.340559</td>\n",
       "      <td>13.523497</td>\n",
       "      <td>1</td>\n",
       "    </tr>\n",
       "    <tr>\n",
       "      <th>12</th>\n",
       "      <td>0.793628</td>\n",
       "      <td>9.001172</td>\n",
       "      <td>1</td>\n",
       "    </tr>\n",
       "    <tr>\n",
       "      <th>13</th>\n",
       "      <td>0.095168</td>\n",
       "      <td>10.127692</td>\n",
       "      <td>1</td>\n",
       "    </tr>\n",
       "    <tr>\n",
       "      <th>14</th>\n",
       "      <td>0.036925</td>\n",
       "      <td>5.131287</td>\n",
       "      <td>1</td>\n",
       "    </tr>\n",
       "    <tr>\n",
       "      <th>15</th>\n",
       "      <td>0.961567</td>\n",
       "      <td>8.564286</td>\n",
       "      <td>1</td>\n",
       "    </tr>\n",
       "    <tr>\n",
       "      <th>16</th>\n",
       "      <td>0.151042</td>\n",
       "      <td>8.233797</td>\n",
       "      <td>1</td>\n",
       "    </tr>\n",
       "    <tr>\n",
       "      <th>17</th>\n",
       "      <td>0.448075</td>\n",
       "      <td>13.155696</td>\n",
       "      <td>1</td>\n",
       "    </tr>\n",
       "    <tr>\n",
       "      <th>18</th>\n",
       "      <td>0.815516</td>\n",
       "      <td>8.144501</td>\n",
       "      <td>1</td>\n",
       "    </tr>\n",
       "    <tr>\n",
       "      <th>19</th>\n",
       "      <td>0.270381</td>\n",
       "      <td>5.963148</td>\n",
       "      <td>1</td>\n",
       "    </tr>\n",
       "    <tr>\n",
       "      <th>20</th>\n",
       "      <td>0.984342</td>\n",
       "      <td>6.605884</td>\n",
       "      <td>-1</td>\n",
       "    </tr>\n",
       "    <tr>\n",
       "      <th>21</th>\n",
       "      <td>0.170539</td>\n",
       "      <td>5.232792</td>\n",
       "      <td>-1</td>\n",
       "    </tr>\n",
       "    <tr>\n",
       "      <th>22</th>\n",
       "      <td>0.049132</td>\n",
       "      <td>4.783207</td>\n",
       "      <td>-1</td>\n",
       "    </tr>\n",
       "    <tr>\n",
       "      <th>23</th>\n",
       "      <td>0.282790</td>\n",
       "      <td>4.768997</td>\n",
       "      <td>-1</td>\n",
       "    </tr>\n",
       "    <tr>\n",
       "      <th>24</th>\n",
       "      <td>0.176631</td>\n",
       "      <td>3.982303</td>\n",
       "      <td>-1</td>\n",
       "    </tr>\n",
       "    <tr>\n",
       "      <th>25</th>\n",
       "      <td>0.735507</td>\n",
       "      <td>6.354210</td>\n",
       "      <td>-1</td>\n",
       "    </tr>\n",
       "    <tr>\n",
       "      <th>26</th>\n",
       "      <td>0.074369</td>\n",
       "      <td>3.230777</td>\n",
       "      <td>-1</td>\n",
       "    </tr>\n",
       "    <tr>\n",
       "      <th>27</th>\n",
       "      <td>0.288523</td>\n",
       "      <td>5.313814</td>\n",
       "      <td>-1</td>\n",
       "    </tr>\n",
       "    <tr>\n",
       "      <th>28</th>\n",
       "      <td>0.707976</td>\n",
       "      <td>6.157291</td>\n",
       "      <td>-1</td>\n",
       "    </tr>\n",
       "    <tr>\n",
       "      <th>29</th>\n",
       "      <td>0.079103</td>\n",
       "      <td>4.929911</td>\n",
       "      <td>-1</td>\n",
       "    </tr>\n",
       "    <tr>\n",
       "      <th>30</th>\n",
       "      <td>0.185067</td>\n",
       "      <td>5.269064</td>\n",
       "      <td>-1</td>\n",
       "    </tr>\n",
       "    <tr>\n",
       "      <th>31</th>\n",
       "      <td>0.197624</td>\n",
       "      <td>-3.624129</td>\n",
       "      <td>-1</td>\n",
       "    </tr>\n",
       "    <tr>\n",
       "      <th>32</th>\n",
       "      <td>0.702061</td>\n",
       "      <td>6.216804</td>\n",
       "      <td>-1</td>\n",
       "    </tr>\n",
       "    <tr>\n",
       "      <th>33</th>\n",
       "      <td>0.347620</td>\n",
       "      <td>4.090929</td>\n",
       "      <td>-1</td>\n",
       "    </tr>\n",
       "    <tr>\n",
       "      <th>34</th>\n",
       "      <td>0.112134</td>\n",
       "      <td>5.064722</td>\n",
       "      <td>-1</td>\n",
       "    </tr>\n",
       "    <tr>\n",
       "      <th>35</th>\n",
       "      <td>0.945617</td>\n",
       "      <td>6.808290</td>\n",
       "      <td>-1</td>\n",
       "    </tr>\n",
       "    <tr>\n",
       "      <th>36</th>\n",
       "      <td>0.054550</td>\n",
       "      <td>3.090784</td>\n",
       "      <td>-1</td>\n",
       "    </tr>\n",
       "    <tr>\n",
       "      <th>37</th>\n",
       "      <td>0.280699</td>\n",
       "      <td>3.348568</td>\n",
       "      <td>-1</td>\n",
       "    </tr>\n",
       "    <tr>\n",
       "      <th>38</th>\n",
       "      <td>0.786246</td>\n",
       "      <td>5.235406</td>\n",
       "      <td>-1</td>\n",
       "    </tr>\n",
       "    <tr>\n",
       "      <th>39</th>\n",
       "      <td>0.985353</td>\n",
       "      <td>4.659557</td>\n",
       "      <td>-1</td>\n",
       "    </tr>\n",
       "  </tbody>\n",
       "</table>\n",
       "</div>"
      ],
      "text/plain": [
       "          x1         x2  y\n",
       "0   0.968487   7.407566  1\n",
       "1   0.958163   7.594384  1\n",
       "2   0.050720   6.812628  1\n",
       "3   0.761004   7.040956  1\n",
       "4   0.147402   6.289465  1\n",
       "5   0.533786   8.782700  1\n",
       "6   0.347799   6.574658  1\n",
       "7   0.734882   6.856285  1\n",
       "8   0.920678   7.229342  1\n",
       "9   0.423708   8.330130  1\n",
       "10  0.556530   7.101743  1\n",
       "11  0.340559  13.523497  1\n",
       "12  0.793628   9.001172  1\n",
       "13  0.095168  10.127692  1\n",
       "14  0.036925   5.131287  1\n",
       "15  0.961567   8.564286  1\n",
       "16  0.151042   8.233797  1\n",
       "17  0.448075  13.155696  1\n",
       "18  0.815516   8.144501  1\n",
       "19  0.270381   5.963148  1\n",
       "20  0.984342   6.605884 -1\n",
       "21  0.170539   5.232792 -1\n",
       "22  0.049132   4.783207 -1\n",
       "23  0.282790   4.768997 -1\n",
       "24  0.176631   3.982303 -1\n",
       "25  0.735507   6.354210 -1\n",
       "26  0.074369   3.230777 -1\n",
       "27  0.288523   5.313814 -1\n",
       "28  0.707976   6.157291 -1\n",
       "29  0.079103   4.929911 -1\n",
       "30  0.185067   5.269064 -1\n",
       "31  0.197624  -3.624129 -1\n",
       "32  0.702061   6.216804 -1\n",
       "33  0.347620   4.090929 -1\n",
       "34  0.112134   5.064722 -1\n",
       "35  0.945617   6.808290 -1\n",
       "36  0.054550   3.090784 -1\n",
       "37  0.280699   3.348568 -1\n",
       "38  0.786246   5.235406 -1\n",
       "39  0.985353   4.659557 -1"
      ]
     },
     "execution_count": 2,
     "metadata": {},
     "output_type": "execute_result"
    }
   ],
   "source": [
    "x1 = np.random.uniform(0,1,20)\n",
    "diff1 = np.random.chisquare(2,20)\n",
    "y1 = 2*x1 + 5 + diff1\n",
    "df1 = pd.DataFrame((x1,y1),index = ['x1','x2']).T\n",
    "df1['y'] = 1\n",
    "\n",
    "x2 = np.random.uniform(0,1,20)\n",
    "diff2 = np.random.chisquare(2,20)\n",
    "y2 = 2*x2 + 5 - diff2\n",
    "df2 = pd.DataFrame((x2,y2),index = ['x1','x2']).T\n",
    "df2['y'] = -1\n",
    "\n",
    "data = pd.concat([df1,df2],ignore_index = True)\n",
    "data"
   ]
  },
  {
   "cell_type": "code",
   "execution_count": 3,
   "metadata": {},
   "outputs": [
    {
     "data": {
      "text/plain": [
       "<function matplotlib.pyplot.show(close=None, block=None)>"
      ]
     },
     "execution_count": 3,
     "metadata": {},
     "output_type": "execute_result"
    },
    {
     "data": {
      "image/png": "[encoded data removed]",
      "text/plain": [
       "<Figure size 432x288 with 1 Axes>"
      ]
     },
     "metadata": {
      "needs_background": "light"
     },
     "output_type": "display_data"
    }
   ],
   "source": [
    "positive_x = data[['x1','x2']][data.y == 1]\n",
    "negative_x = data[['x1','x2']][data.y != 1]\n",
    "plt.scatter(positive_x['x1'] , positive_x['x2'] , color = 'r')\n",
    "plt.scatter(negative_x['x1'] , negative_x['x2'] , color = 'b')\n",
    "plt.title('Random Sample')\n",
    "plt.show"
   ]
  },
  {
   "cell_type": "markdown",
   "metadata": {},
   "source": [
    "目标是将两种点区分开"
   ]
  },
  {
   "cell_type": "markdown",
   "metadata": {},
   "source": [
    "首先定义损失函数: "
   ]
  },
  {
   "cell_type": "code",
   "execution_count": 4,
   "metadata": {},
   "outputs": [],
   "source": [
    "def loss_function(data , ω , b):\n",
    "    f = ( np.dot(data[['x1','x2']] , ω.T) + b ) * data['y']\n",
    "    a = np.where(f <= 0)\n",
    "    return f,a[0]"
   ]
  },
  {
   "cell_type": "markdown",
   "metadata": {},
   "source": [
    "初始化迭代："
   ]
  },
  {
   "cell_type": "code",
   "execution_count": 5,
   "metadata": {
    "scrolled": false
   },
   "outputs": [],
   "source": [
    "ω = np.zeros(data.shape[1]-1)\n",
    "b = 0\n",
    "f,a = loss_function(data , ω , b)\n",
    "i = 1"
   ]
  },
  {
   "cell_type": "markdown",
   "metadata": {},
   "source": [
    "开始迭代："
   ]
  },
  {
   "cell_type": "markdown",
   "metadata": {},
   "source": [
    "随机梯度下降法"
   ]
  },
  {
   "cell_type": "code",
   "execution_count": 6,
   "metadata": {},
   "outputs": [],
   "source": [
    "while f[a].size != 0 :\n",
    "    tick = np.random.randint((f[a].shape[0]))\n",
    "    \n",
    "    x = data[['x1','x2']].iloc[a[tick]]\n",
    "    y = data.y.iloc[a[tick]]\n",
    "    ω = ω + y*x\n",
    "    b = b + y\n",
    "    \n",
    "    f,a = loss_function(data , ω , b)"
   ]
  },
  {
   "cell_type": "code",
   "execution_count": 7,
   "metadata": {},
   "outputs": [
    {
     "data": {
      "image/png": "[encoded data removed]",
      "text/plain": [
       "<Figure size 432x288 with 1 Axes>"
      ]
     },
     "metadata": {
      "needs_background": "light"
     },
     "output_type": "display_data"
    }
   ],
   "source": [
    "x1 = np.linspace(0,1)\n",
    "x2 = - ( ω[0] * x1 + b ) / ω[1]\n",
    "plt.plot(x1 , x2)\n",
    "positive_x = data[['x1','x2']][data.y == 1]\n",
    "negative_x = data[['x1','x2']][data.y != 1]\n",
    "plt.scatter(positive_x['x1'] , positive_x['x2'] , color = 'r')\n",
    "plt.scatter(negative_x['x1'] , negative_x['x2'] , color = 'b')\n",
    "plt.title('Outcome')\n",
    "plt.show()"
   ]
  },
  {
   "cell_type": "markdown",
   "metadata": {},
   "source": [
    "最后还有些疑问："
   ]
  },
  {
   "cell_type": "markdown",
   "metadata": {},
   "source": [
    "1）数据是用一阶线性函数生成，所以有明显分界线。如果用幂函数等生成，数据点可能混杂在一起，这个模型还能完成区分吗？"
   ]
  },
  {
   "cell_type": "markdown",
   "metadata": {},
   "source": [
    "当数据混杂在一起的时候，感知机模型不能完成分类。因为感知机模型只能用简单线性函数进行分类。"
   ]
  },
  {
   "cell_type": "markdown",
   "metadata": {},
   "source": [
    "2）最后生成的 w 是什么的系数，分界线的表达式是怎么来的？"
   ]
  },
  {
   "cell_type": "code",
   "execution_count": null,
   "metadata": {},
   "outputs": [],
   "source": []
  }
 ],
 "metadata": {
  "kernelspec": {
   "display_name": "Python 3",
   "language": "python",
   "name": "python3"
  },
  "language_info": {
   "codemirror_mode": {
    "name": "ipython",
    "version": 3
   },
   "file_extension": ".py",
   "mimetype": "text/x-python",
   "name": "python",
   "nbconvert_exporter": "python",
   "pygments_lexer": "ipython3",
   "version": "3.8.5"
  }
 },
 "nbformat": 4,
 "nbformat_minor": 4
}
