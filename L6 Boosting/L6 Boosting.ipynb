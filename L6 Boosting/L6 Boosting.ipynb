{
 "cells": [
  {
   "cell_type": "markdown",
   "metadata": {},
   "source": [
    "    L6 提升"
   ]
  },
  {
   "cell_type": "markdown",
   "metadata": {},
   "source": [
    "1、AdaBoost"
   ]
  },
  {
   "cell_type": "markdown",
   "metadata": {},
   "source": [
    "提升二分类训练器"
   ]
  },
  {
   "cell_type": "markdown",
   "metadata": {},
   "source": [
    "通过对原始数据加权，并不断优化权重，对弱分类器进行提升得到强分类器"
   ]
  },
  {
   "cell_type": "markdown",
   "metadata": {},
   "source": [
    "强分类器是弱分类器的线性组合"
   ]
  },
  {
   "cell_type": "code",
   "execution_count": 80,
   "metadata": {},
   "outputs": [],
   "source": [
    "import numpy as np\n",
    "import pandas as pd\n",
    "from sklearn.datasets import load_breast_cancer"
   ]
  },
  {
   "cell_type": "markdown",
   "metadata": {},
   "source": [
    "导入数据 乳腺癌数据"
   ]
  },
  {
   "cell_type": "code",
   "execution_count": 81,
   "metadata": {},
   "outputs": [],
   "source": [
    "cancer = load_breast_cancer()"
   ]
  },
  {
   "cell_type": "code",
   "execution_count": 84,
   "metadata": {},
   "outputs": [
    {
     "name": "stdout",
     "output_type": "stream",
     "text": [
      "(569, 30)\n",
      "['mean radius' 'mean texture' 'mean perimeter' 'mean area'\n",
      " 'mean smoothness' 'mean compactness' 'mean concavity'\n",
      " 'mean concave points' 'mean symmetry' 'mean fractal dimension'\n",
      " 'radius error' 'texture error' 'perimeter error' 'area error'\n",
      " 'smoothness error' 'compactness error' 'concavity error'\n",
      " 'concave points error' 'symmetry error' 'fractal dimension error'\n",
      " 'worst radius' 'worst texture' 'worst perimeter' 'worst area'\n",
      " 'worst smoothness' 'worst compactness' 'worst concavity'\n",
      " 'worst concave points' 'worst symmetry' 'worst fractal dimension']\n",
      "{0, 1}\n"
     ]
    }
   ],
   "source": [
    "print(cancer.data.shape)\n",
    "print(cancer.feature_names)\n",
    "print(set(cancer.target))"
   ]
  },
  {
   "cell_type": "code",
   "execution_count": 346,
   "metadata": {},
   "outputs": [],
   "source": [
    "x_data = pd.DataFrame(cancer.data,columns = cancer.feature_names)[0:500]"
   ]
  },
  {
   "cell_type": "code",
   "execution_count": 348,
   "metadata": {},
   "outputs": [],
   "source": [
    "y_data = cancer.target[0:500]"
   ]
  },
  {
   "cell_type": "code",
   "execution_count": 351,
   "metadata": {},
   "outputs": [],
   "source": [
    "x_test = pd.DataFrame(cancer.data,columns = cancer.feature_names)[500:]"
   ]
  },
  {
   "cell_type": "code",
   "execution_count": 353,
   "metadata": {},
   "outputs": [],
   "source": [
    "y_test = cancer.target[500:]"
   ]
  },
  {
   "cell_type": "markdown",
   "metadata": {},
   "source": [
    "需把y_data中的0替换为-1以便后续计算需要"
   ]
  },
  {
   "cell_type": "code",
   "execution_count": 354,
   "metadata": {},
   "outputs": [],
   "source": [
    "y_data[y_data==0] = -1.0\n",
    "y_test[y_test==0] = -1.0"
   ]
  },
  {
   "cell_type": "markdown",
   "metadata": {},
   "source": [
    "首先建立一个树桩"
   ]
  },
  {
   "cell_type": "code",
   "execution_count": 308,
   "metadata": {},
   "outputs": [],
   "source": [
    "def split(data , feature , value , judge):\n",
    "    \n",
    "    #根据所给的特征和值对数据进行分类\n",
    "    \n",
    "    judgeArray = np.ones(data.shape[0])\n",
    "    \n",
    "    if judge == 'large':\n",
    "        #如果比value大，则分为0，即没有癌症\n",
    "        judgeArray[data[feature] > value] = -1.0\n",
    "    \n",
    "    else:\n",
    "        #如果比value小，则分为0，即没有癌症\n",
    "        judgeArray[data[feature] <= value] = -1.0\n",
    "        \n",
    "    \n",
    "    return judgeArray"
   ]
  },
  {
   "cell_type": "code",
   "execution_count": 309,
   "metadata": {},
   "outputs": [],
   "source": [
    "def Stump(x_data , y_data , D):\n",
    "    \n",
    "    #建立一个单层决策树，返回：分类器、误差率、分类结果\n",
    "    \n",
    "    #D是权重向量\n",
    "    \n",
    "    #初始化变量\n",
    "    Stump = {}\n",
    "    minErr = np.inf\n",
    "    stepLen = 20\n",
    "    bestClass = np.ones(len(y_data))\n",
    "    \n",
    "    #树桩\n",
    "    for x_feature in x_data.columns:\n",
    "        rangeMin = x_data[x_feature].min()\n",
    "        rangeMax = x_data[x_feature].max()\n",
    "        steps = ( rangeMax - rangeMin ) / stepLen #对于连续变量进行分段取值\n",
    "        \n",
    "        for step in range(-1,int(stepLen)+1):\n",
    "            for judge in ['large', 'small']:\n",
    "                value = rangeMin + float(step) * steps\n",
    "                predictClass = split(x_data , x_feature , value , judge)\n",
    "                errArray = np.ones(len(y_data))\n",
    "                errArray[predictClass == y_data] = 0.0\n",
    "                err = np.dot(D , errArray)\n",
    "                \n",
    "                if err < minErr:\n",
    "                    minErr = err\n",
    "                    bestClass = predictClass.copy()\n",
    "                    \n",
    "                    Stump['feature'] = x_feature\n",
    "                    Stump['value'] = value\n",
    "                    Stump['judge'] = judge\n",
    "    \n",
    "    return Stump , minErr , bestClass "
   ]
  },
  {
   "cell_type": "code",
   "execution_count": 310,
   "metadata": {},
   "outputs": [],
   "source": [
    "example1 , example2 , example3 = Stump(x_data , y_data , np.ones(len(y_data))/len(y_data))"
   ]
  },
  {
   "cell_type": "code",
   "execution_count": 311,
   "metadata": {},
   "outputs": [
    {
     "data": {
      "text/plain": [
       "{'feature': 'worst perimeter', 'value': 110.64699999999999, 'judge': 'large'}"
      ]
     },
     "execution_count": 311,
     "metadata": {},
     "output_type": "execute_result"
    }
   ],
   "source": [
    "example1"
   ]
  },
  {
   "cell_type": "markdown",
   "metadata": {},
   "source": [
    "这样建立了一个单层决策树：当特征'worst perimeter'的值大于110.6469时预测为0，即没有癌症"
   ]
  },
  {
   "cell_type": "code",
   "execution_count": 342,
   "metadata": {},
   "outputs": [],
   "source": [
    "def AdaBoostDt(x_data , y_data , iterNum):\n",
    "    \n",
    "    #用adaboost提升单层决策树\n",
    "    \n",
    "    ClassTree = []\n",
    "    D = np.ones(len(y_data))/len(y_data)\n",
    "    weighBestClass = np.zeros(len(y_data))\n",
    "    i = 1\n",
    "    \n",
    "    while 1:\n",
    "        bestStump , error , bestClass = Stump(x_data , y_data , D)\n",
    "        α = 1/2 * np.log((1 - error) / (error + 1e-10))\n",
    "        bestStump['α'] = α\n",
    "        ClassTree.append(bestStump)\n",
    "        D = D * np.exp(-α * y_data * bestClass)\\\n",
    "            / np.sum(D * np.exp(-α * y_data * bestClass))\n",
    "        \n",
    "        #计算分类器的总误差\n",
    "        \n",
    "        weighBestClass += α * bestClass\n",
    "        grossErr = np.dot(np.sign(weighBestClass) != y_data ,\n",
    "                          np.ones(len(y_data))/len(y_data))\n",
    "        i += 1\n",
    "        if grossErr == 0.0:\n",
    "            break\n",
    "        \n",
    "        if i >= iterNum:\n",
    "            break\n",
    "    \n",
    "    return AdaClassTree"
   ]
  },
  {
   "cell_type": "code",
   "execution_count": 355,
   "metadata": {},
   "outputs": [],
   "source": [
    "AdaTree = AdaBoostDt(x_data , y_data , 2000)"
   ]
  },
  {
   "cell_type": "code",
   "execution_count": 357,
   "metadata": {},
   "outputs": [
    {
     "data": {
      "text/plain": [
       "45"
      ]
     },
     "execution_count": 357,
     "metadata": {},
     "output_type": "execute_result"
    }
   ],
   "source": [
    "len(AdaTree)"
   ]
  },
  {
   "cell_type": "markdown",
   "metadata": {},
   "source": [
    "然后用训练好的强分类器进行预测"
   ]
  },
  {
   "cell_type": "code",
   "execution_count": 365,
   "metadata": {},
   "outputs": [],
   "source": [
    "def AdaForecast(x_test , AdaClassTree):\n",
    "    \n",
    "    #用分类器进行分类\n",
    "    \n",
    "    f = np.zeros(x_test.shape[0])\n",
    "    \n",
    "    for i in range(len(AdaClassTree)):\n",
    "        ClassOutPut = split(x_test , AdaClassTree[i]['feature'],\n",
    "                  AdaClassTree[i]['value'] , AdaClassTree[i]['judge'])\n",
    "        f += AdaClassTree[i]['α'] * ClassOutPut\n",
    "        G = np.sign(f)\n",
    "    \n",
    "    return G"
   ]
  },
  {
   "cell_type": "markdown",
   "metadata": {},
   "source": [
    "输出预测结果："
   ]
  },
  {
   "cell_type": "code",
   "execution_count": 366,
   "metadata": {},
   "outputs": [],
   "source": [
    "result1 = AdaForecast(x_test , AdaTree)"
   ]
  },
  {
   "cell_type": "markdown",
   "metadata": {},
   "source": [
    "预测误差率："
   ]
  },
  {
   "cell_type": "code",
   "execution_count": 368,
   "metadata": {},
   "outputs": [
    {
     "data": {
      "text/plain": [
       "0.028985507246376812"
      ]
     },
     "execution_count": 368,
     "metadata": {},
     "output_type": "execute_result"
    }
   ],
   "source": [
    "np.dot(np.sign(result1) != y_test ,np.ones(len(y_test))/len(y_test))"
   ]
  },
  {
   "cell_type": "code",
   "execution_count": null,
   "metadata": {},
   "outputs": [],
   "source": []
  }
 ],
 "metadata": {
  "kernelspec": {
   "display_name": "Python 3",
   "language": "python",
   "name": "python3"
  },
  "language_info": {
   "codemirror_mode": {
    "name": "ipython",
    "version": 3
   },
   "file_extension": ".py",
   "mimetype": "text/x-python",
   "name": "python",
   "nbconvert_exporter": "python",
   "pygments_lexer": "ipython3",
   "version": "3.8.5"
  }
 },
 "nbformat": 4,
 "nbformat_minor": 4
}
