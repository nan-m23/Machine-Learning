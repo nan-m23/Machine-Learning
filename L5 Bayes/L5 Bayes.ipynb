{
 "cells": [
  {
   "cell_type": "markdown",
   "metadata": {},
   "source": [
    "    L5 贝叶斯算法"
   ]
  },
  {
   "cell_type": "markdown",
   "metadata": {},
   "source": [
    "贝叶斯算法用后验概率最大原则进行分类"
   ]
  },
  {
   "cell_type": "markdown",
   "metadata": {},
   "source": [
    "贝叶斯算法基于极大似然估计，但假设参数是服从某一确定的概率分布的随机变量"
   ]
  },
  {
   "cell_type": "markdown",
   "metadata": {},
   "source": [
    "朴素贝叶斯算法假设条件概率独立"
   ]
  },
  {
   "cell_type": "code",
   "execution_count": 1,
   "metadata": {},
   "outputs": [],
   "source": [
    "import numpy as np\n",
    "import pandas as pd\n",
    "import matplotlib.pyplot as plt"
   ]
  },
  {
   "cell_type": "markdown",
   "metadata": {},
   "source": [
    "对于对象："
   ]
  },
  {
   "cell_type": "code",
   "execution_count": 2,
   "metadata": {},
   "outputs": [],
   "source": [
    "train_data = pd.DataFrame({'x1':[1,1,1,1,1,2,2,2,2,2,3,3,3,3,3],\n",
    "              'x2':['s','m','m','s','s','s','m','m','l','l','l','m','m','l','l'],\n",
    "              'y': [-1,-1,1,1,-1,-1,-1,1,1,1,1,1,1,1,-1]})"
   ]
  },
  {
   "cell_type": "markdown",
   "metadata": {},
   "source": [
    "朴素贝叶斯估计："
   ]
  },
  {
   "cell_type": "code",
   "execution_count": 3,
   "metadata": {},
   "outputs": [],
   "source": [
    "def prior_probability(y , y_value): \n",
    "    \n",
    "    #计算先验概率 \n",
    "    \n",
    "    P_y = y[y==y_value].count()/len(y)\n",
    "    return P_y"
   ]
  },
  {
   "cell_type": "code",
   "execution_count": 4,
   "metadata": {},
   "outputs": [],
   "source": [
    "def cond_probability(x , y , method , x_label , x_value , y_value):\n",
    "    \n",
    "    #计算条件概率\n",
    "    \n",
    "    if method == 'uniform':\n",
    "        \n",
    "        return sum(x[x_label][k]==x_value and y[k]==y_value for k in range(len(y)))\\\n",
    "                       /y[y == y_value].count()\n",
    "    \n",
    "    \n",
    "    if method == 'gaussian':\n",
    "        p = 1/sqrt(np.pi) * 1/np.var(x[i]) \\\n",
    "                               * exp(-(l - np.mean(x[i]))**2/(2*np.var(x[i])))\n",
    "        return p    "
   ]
  },
  {
   "cell_type": "code",
   "execution_count": 5,
   "metadata": {},
   "outputs": [],
   "source": [
    "def fit(train_data , method , features):\n",
    "    \n",
    "    #根据给出的features判断分类\n",
    "    \n",
    "    x = train_data.iloc[:,:-1]\n",
    "    y = train_data.iloc[:,-1]\n",
    "    \n",
    "    P_yx = []\n",
    "    \n",
    "    for y_value in list(set(y)):\n",
    "        p = 1.0\n",
    "        p_y = prior_probability(y , y_value)\n",
    "        for i in range(len(features)):\n",
    "            x_label = x.columns[i]\n",
    "            x_value = features[i]\n",
    "            \n",
    "            p = p * cond_probability(x , y , method , x_label , x_value , y_value)\n",
    "        \n",
    "        p_yx = p_y * p\n",
    "        P_yx.append(p_yx)\n",
    "    \n",
    "    a = np.argmax(P_yx)\n",
    "    Y = list(set(y))[a]\n",
    "    P = P_yx[a]\n",
    "    \n",
    "    return print('Y =' , Y , ';' , 'P =' , P)"
   ]
  },
  {
   "cell_type": "code",
   "execution_count": 6,
   "metadata": {},
   "outputs": [
    {
     "name": "stdout",
     "output_type": "stream",
     "text": [
      "Y = -1 ; P = 0.06666666666666667\n"
     ]
    }
   ],
   "source": [
    "fit(train_data , 'uniform' , [2,'s'])"
   ]
  },
  {
   "cell_type": "code",
   "execution_count": null,
   "metadata": {},
   "outputs": [],
   "source": []
  }
 ],
 "metadata": {
  "kernelspec": {
   "display_name": "Python 3",
   "language": "python",
   "name": "python3"
  },
  "language_info": {
   "codemirror_mode": {
    "name": "ipython",
    "version": 3
   },
   "file_extension": ".py",
   "mimetype": "text/x-python",
   "name": "python",
   "nbconvert_exporter": "python",
   "pygments_lexer": "ipython3",
   "version": "3.8.5"
  }
 },
 "nbformat": 4,
 "nbformat_minor": 4
}
