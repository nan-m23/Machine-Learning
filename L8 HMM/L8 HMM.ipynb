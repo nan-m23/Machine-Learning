{
 "cells": [
  {
   "cell_type": "markdown",
   "metadata": {},
   "source": [
    "    L8 隐马尔可夫模型（HMM）"
   ]
  },
  {
   "cell_type": "markdown",
   "metadata": {},
   "source": [
    "首先，对HMM的要素进行一些定义："
   ]
  },
  {
   "cell_type": "markdown",
   "metadata": {},
   "source": [
    "I：状态序列 [1xT]"
   ]
  },
  {
   "cell_type": "markdown",
   "metadata": {},
   "source": [
    "O：观测序列 [1xT]"
   ]
  },
  {
   "cell_type": "markdown",
   "metadata": {},
   "source": [
    "A：状态转移概率矩阵（转移矩阵）[NxN]"
   ]
  },
  {
   "cell_type": "markdown",
   "metadata": {},
   "source": [
    "B：观测概率矩阵（隐状态）[NxM]"
   ]
  },
  {
   "cell_type": "markdown",
   "metadata": {},
   "source": [
    "π：初始状态概率向量 [1xN]"
   ]
  },
  {
   "cell_type": "code",
   "execution_count": 1,
   "metadata": {},
   "outputs": [],
   "source": [
    "import numpy as np"
   ]
  },
  {
   "cell_type": "markdown",
   "metadata": {},
   "source": [
    " "
   ]
  },
  {
   "cell_type": "markdown",
   "metadata": {},
   "source": [
    "1、生成观测序列"
   ]
  },
  {
   "cell_type": "markdown",
   "metadata": {},
   "source": [
    "输入: 隐马尔可夫模型 (A, B, $\\pi$)"
   ]
  },
  {
   "cell_type": "markdown",
   "metadata": {},
   "source": [
    "输出: 观测序列 O"
   ]
  },
  {
   "cell_type": "code",
   "execution_count": 2,
   "metadata": {},
   "outputs": [],
   "source": [
    "def randomDraw(probs):\n",
    "    \n",
    "    #按给定概率向量随机抽取一个位置的数\n",
    "    \n",
    "    return np.where(np.random.multinomial(1, probs) == 1)[0][0]"
   ]
  },
  {
   "cell_type": "code",
   "execution_count": 3,
   "metadata": {},
   "outputs": [
    {
     "data": {
      "text/plain": [
       "2"
      ]
     },
     "execution_count": 3,
     "metadata": {},
     "output_type": "execute_result"
    }
   ],
   "source": [
    "randomDraw([0.1, 0.1, 0.9])"
   ]
  },
  {
   "cell_type": "code",
   "execution_count": 4,
   "metadata": {},
   "outputs": [],
   "source": [
    "def get_obsSquence(A, B, π, T):\n",
    "    \n",
    "    # T: 观测序列长度\n",
    "    \n",
    "    obsSequence = np.zeros(T, dtype = int)\n",
    "    staSequence = np.zeros(T, dtype = int)\n",
    "    \n",
    "    staSequence[0] = randomDraw(π)\n",
    "    obsSequence[0] = randomDraw(B[staSequence[0], :])\n",
    "    \n",
    "    for t in range(1, T):\n",
    "        staSequence[t] = randomDraw(A[staSequence[t-1], :])\n",
    "        obsSequence[t] = randomDraw(B[staSequence[t], :])\n",
    "    \n",
    "    return staSequence, obsSequence\n",
    "    "
   ]
  },
  {
   "cell_type": "code",
   "execution_count": 5,
   "metadata": {},
   "outputs": [],
   "source": [
    "probs = [1/4]*4\n",
    "trans_mat = np.array([[0, 1, 0, 0], [0.4, 0, 0.6, 0], [0, 0.4, 0, 0.6], [0, 0, 0.5, 0.5]])\n",
    "prob_mat = np.array([[0.5, 0.5], [0.3, 0.7], [0.6, 0.4], [0.8, 0.2]])"
   ]
  },
  {
   "cell_type": "code",
   "execution_count": 6,
   "metadata": {},
   "outputs": [],
   "source": [
    "color = ['红色', '白色']"
   ]
  },
  {
   "cell_type": "code",
   "execution_count": 7,
   "metadata": {
    "scrolled": true
   },
   "outputs": [],
   "source": [
    "state, observe = get_obsSquence(trans_mat, prob_mat, probs, 6)"
   ]
  },
  {
   "cell_type": "code",
   "execution_count": 8,
   "metadata": {
    "scrolled": true
   },
   "outputs": [
    {
     "data": {
      "text/plain": [
       "['红色', '红色', '白色', '红色', '白色', '红色']"
      ]
     },
     "execution_count": 8,
     "metadata": {},
     "output_type": "execute_result"
    }
   ],
   "source": [
    "[color[i] for i in observe]"
   ]
  },
  {
   "cell_type": "markdown",
   "metadata": {},
   "source": [
    " "
   ]
  },
  {
   "cell_type": "markdown",
   "metadata": {},
   "source": [
    "2、给定HMM模型和观测序列O，求O出现的概率"
   ]
  },
  {
   "cell_type": "markdown",
   "metadata": {},
   "source": [
    "输入：HMM模型，观测序列O"
   ]
  },
  {
   "cell_type": "markdown",
   "metadata": {},
   "source": [
    "输出：观测序列出现的概率 P(O|$\\lambda$)"
   ]
  },
  {
   "cell_type": "markdown",
   "metadata": {},
   "source": [
    "    1、前向算法"
   ]
  },
  {
   "cell_type": "code",
   "execution_count": 9,
   "metadata": {},
   "outputs": [],
   "source": [
    "def forwardAlgo(A, B, π, O):\n",
    "    \n",
    "    N = A.shape[0]\n",
    "    T = len(O)\n",
    "    \n",
    "    P = np.zeros((T, N))\n",
    "    \n",
    "    P[0] = π * B[:, O[0]]\n",
    "    \n",
    "    for t in range(1, T):\n",
    "        P[t] = np.dot(P[t-1], A) * B[:, observe[t]] \n",
    "    \n",
    "    return P , np.sum(P[T-1])"
   ]
  },
  {
   "cell_type": "code",
   "execution_count": 10,
   "metadata": {},
   "outputs": [
    {
     "data": {
      "text/plain": [
       "(array([[0.125     , 0.075     , 0.15      , 0.2       ],\n",
       "        [0.015     , 0.0555    , 0.087     , 0.152     ],\n",
       "        [0.0111    , 0.03486   , 0.04372   , 0.02564   ],\n",
       "        [0.006972  , 0.0085764 , 0.0202416 , 0.0312416 ],\n",
       "        [0.00171528, 0.01054805, 0.00830666, 0.00555315],\n",
       "        [0.00210961, 0.00151138, 0.00546324, 0.00620846]]),\n",
       " 0.015292690880000005)"
      ]
     },
     "execution_count": 10,
     "metadata": {},
     "output_type": "execute_result"
    }
   ],
   "source": [
    "forwardAlgo(trans_mat, prob_mat, probs, observe)"
   ]
  },
  {
   "cell_type": "markdown",
   "metadata": {},
   "source": [
    "    2、后向算法"
   ]
  },
  {
   "cell_type": "code",
   "execution_count": 11,
   "metadata": {},
   "outputs": [],
   "source": [
    "def backwardAlgo(A, B, π, O):\n",
    "    \n",
    "    N = A.shape[0]\n",
    "    T = len(O)\n",
    "    P = np.zeros((T, N))\n",
    "    \n",
    "    P[T-1] = 1\n",
    "    \n",
    "    for t in reversed(range(T-1)):\n",
    "        P[t] = np.dot(A, B[:, O[t+1]]) * P[t+1]\n",
    "    p = np.dot(P[0] * π, B[:, O[0]])\n",
    "    \n",
    "    return P, p"
   ]
  },
  {
   "cell_type": "code",
   "execution_count": 12,
   "metadata": {
    "scrolled": false
   },
   "outputs": [
    {
     "data": {
      "text/plain": [
       "(array([[0.01323   , 0.03399926, 0.03456   , 0.03087   ],\n",
       "        [0.0441    , 0.06071296, 0.0576    , 0.0441    ],\n",
       "        [0.063     , 0.137984  , 0.144     , 0.147     ],\n",
       "        [0.21      , 0.2464    , 0.24      , 0.21      ],\n",
       "        [0.3       , 0.56      , 0.6       , 0.7       ],\n",
       "        [1.        , 1.        , 1.        , 1.        ]]),\n",
       " 0.01556169432)"
      ]
     },
     "execution_count": 12,
     "metadata": {},
     "output_type": "execute_result"
    }
   ],
   "source": [
    "backwardAlgo(trans_mat, prob_mat, probs, observe)"
   ]
  },
  {
   "cell_type": "markdown",
   "metadata": {},
   "source": [
    " "
   ]
  },
  {
   "cell_type": "markdown",
   "metadata": {},
   "source": [
    "3、无监督学习算法"
   ]
  },
  {
   "cell_type": "markdown",
   "metadata": {},
   "source": [
    "给定观测序列O，求HMM模型"
   ]
  },
  {
   "cell_type": "markdown",
   "metadata": {},
   "source": [
    "Baum-Welch算法"
   ]
  },
  {
   "cell_type": "code",
   "execution_count": 13,
   "metadata": {},
   "outputs": [],
   "source": [
    "def get_gamma(α, β, N, T):\n",
    "    \n",
    "    #计算γ=[TxN]\n",
    "    \n",
    "    γ = np.zeros((T, N))\n",
    "    \n",
    "    for t in range(T):\n",
    "        γ[t] = α[t] * β[t] / np.dot(α[t], β[t])\n",
    "    \n",
    "    return γ"
   ]
  },
  {
   "cell_type": "code",
   "execution_count": 22,
   "metadata": {},
   "outputs": [],
   "source": [
    "def get_xi(A, B, α, β, N, T):\n",
    "    \n",
    "    #计算ξ=[TxNxN]\n",
    "    \n",
    "    ξ = np.zeros((T-1, N, N))\n",
    "    \n",
    "    for t in range(T-1):\n",
    "        ξ[t] = (α[t] * (A * B[:, observe[t+1]] * β[t+1]).T).T \\\n",
    "               /np.sum(α[t] * (A * B[:, observe[t+1]] * β[t+1]).T)\n",
    "    \n",
    "    return ξ"
   ]
  },
  {
   "cell_type": "code",
   "execution_count": 25,
   "metadata": {},
   "outputs": [],
   "source": [
    "def Baum_Welch_Train(Trans_mat, Prob_mat, Init_mat, O, N, M, ϵ):\n",
    "    \n",
    "    #初始化HMM，但是取均值为初始值并不是很好\n",
    "    # π = np.ones(N)/N\n",
    "    # A = np.ones((N, N))/N\n",
    "    # B = np.ones((N, M))/M \n",
    "    \n",
    "    A = np.copy(Trans_mat)\n",
    "    B = np.copy(Prob_mat)\n",
    "    π = np.copy(Init_mat)\n",
    "    \n",
    "    T = len(O)\n",
    "    \n",
    "    step = 1\n",
    "    \n",
    "    while 1:\n",
    "        \n",
    "        Alpha, p1 = forwardAlgo(A, B, π, O) #Alpha=[TxN]\n",
    "        Beta, p2 = backwardAlgo(A, B, π, O) #Beta=[TxN]\n",
    "    \n",
    "        γ = get_gamma(Alpha, Beta, N, T)\n",
    "        ξ = get_xi(A, B, Alpha, Beta, N, T)\n",
    "        \n",
    "        π_new = γ[0]\n",
    "        A_new = (np.sum(ξ, 0).T/np.sum(γ[:T-1, :], 0)).T\n",
    "        B_new = np.copy(B)\n",
    "\n",
    "        for i in range(M):\n",
    "            B_new[:,i] = np.sum(γ[O==i, :], 0) / np.sum(γ, 0)\n",
    "        \n",
    "        step += 1\n",
    "        \n",
    "        if np.max(abs(π - π_new)) < ϵ and \\\n",
    "           np.max(abs(A - A_new)) < ϵ and \\\n",
    "           np.max(abs(B - B_new)) < ϵ:\n",
    "            break\n",
    "        if step >= 10:\n",
    "            break\n",
    "            \n",
    "        π[:] = π_new\n",
    "        A[:] = A_new\n",
    "        B[:] = B_new\n",
    "        \n",
    "    return π, A, B"
   ]
  },
  {
   "cell_type": "code",
   "execution_count": 26,
   "metadata": {},
   "outputs": [
    {
     "data": {
      "text/plain": [
       "(array([3.46150120e-06, 2.26361963e-06, 1.53503783e-02, 9.84643897e-01]),\n",
       " array([[0.00000000e+00, 1.98870934e+04, 0.00000000e+00, 0.00000000e+00],\n",
       "        [4.49400577e-05, 0.00000000e+00, 9.98059981e-01, 0.00000000e+00],\n",
       "        [0.00000000e+00, 6.99486225e-02, 0.00000000e+00, 9.19135670e-01],\n",
       "        [0.00000000e+00, 0.00000000e+00, 1.65583964e-01, 4.78392236e-01]]),\n",
       " array([[6.88781642e-02, 9.31121836e-01],\n",
       "        [1.00000000e+00, 1.30263744e-12],\n",
       "        [2.20834941e-01, 7.79165059e-01],\n",
       "        [7.58698199e-01, 2.41301801e-01]]))"
      ]
     },
     "execution_count": 26,
     "metadata": {},
     "output_type": "execute_result"
    }
   ],
   "source": [
    "Baum_Welch_Train(trans_mat, prob_mat, probs, observe, 4, 2, 0.1)"
   ]
  },
  {
   "cell_type": "markdown",
   "metadata": {},
   "source": [
    " \n"
   ]
  },
  {
   "cell_type": "markdown",
   "metadata": {},
   "source": [
    "4、预测算法 "
   ]
  },
  {
   "cell_type": "markdown",
   "metadata": {},
   "source": [
    "Viterbi算法"
   ]
  },
  {
   "cell_type": "markdown",
   "metadata": {},
   "source": [
    "输入：HMM模型，观测序列O"
   ]
  },
  {
   "cell_type": "markdown",
   "metadata": {},
   "source": [
    "输出：最优路径 I"
   ]
  },
  {
   "cell_type": "code",
   "execution_count": 27,
   "metadata": {},
   "outputs": [],
   "source": [
    "δ = np.zeros((6, 4))"
   ]
  },
  {
   "cell_type": "code",
   "execution_count": 30,
   "metadata": {},
   "outputs": [],
   "source": [
    "δ[0] = probs * prob_mat[:, observe[0]]"
   ]
  },
  {
   "cell_type": "code",
   "execution_count": 58,
   "metadata": {},
   "outputs": [
    {
     "data": {
      "text/plain": [
       "array([0., 0., 0., 0.])"
      ]
     },
     "execution_count": 58,
     "metadata": {},
     "output_type": "execute_result"
    }
   ],
   "source": [
    "δ[-1]"
   ]
  },
  {
   "cell_type": "code",
   "execution_count": 32,
   "metadata": {},
   "outputs": [],
   "source": [
    "A = np.copy(trans_mat)"
   ]
  },
  {
   "cell_type": "code",
   "execution_count": 34,
   "metadata": {
    "scrolled": true
   },
   "outputs": [
    {
     "data": {
      "text/plain": [
       "array([[0. , 1. , 0. , 0. ],\n",
       "       [0.4, 0. , 0.6, 0. ],\n",
       "       [0. , 0.4, 0. , 0.6],\n",
       "       [0. , 0. , 0.5, 0.5]])"
      ]
     },
     "execution_count": 34,
     "metadata": {},
     "output_type": "execute_result"
    }
   ],
   "source": [
    "A."
   ]
  },
  {
   "cell_type": "code",
   "execution_count": 39,
   "metadata": {},
   "outputs": [
    {
     "data": {
      "text/plain": [
       "array([[0.   , 0.03 , 0.   , 0.   ],\n",
       "       [0.125, 0.   , 0.06 , 0.   ],\n",
       "       [0.   , 0.045, 0.   , 0.1  ],\n",
       "       [0.   , 0.   , 0.09 , 0.1  ]])"
      ]
     },
     "execution_count": 39,
     "metadata": {},
     "output_type": "execute_result"
    }
   ],
   "source": [
    "δ[0]*A.T"
   ]
  },
  {
   "cell_type": "code",
   "execution_count": 44,
   "metadata": {},
   "outputs": [
    {
     "data": {
      "text/plain": [
       "array([1, 0, 3, 3])"
      ]
     },
     "execution_count": 44,
     "metadata": {},
     "output_type": "execute_result"
    }
   ],
   "source": [
    "np.argmax(δ[0]*A.T, 1)"
   ]
  },
  {
   "cell_type": "code",
   "execution_count": 86,
   "metadata": {},
   "outputs": [],
   "source": [
    "def Viterbi_Algo(trans_mat, prob_mat, init_mat, O):\n",
    "    \n",
    "    A = np.copy(trans_mat)\n",
    "    B = np.copy(prob_mat)\n",
    "    π = np.copy(init_mat)\n",
    "    \n",
    "    N = A.shape[0]\n",
    "    T = len(O)\n",
    "    \n",
    "    δ = np.zeros((T, N))\n",
    "    Ψ = np.zeros((T, N), dtype = int)\n",
    "    \n",
    "    δ[0] = π * B[:, O[0]]\n",
    "    \n",
    "    for t in range(1, T):\n",
    "        δ[t] = np.max(δ[t-1] * A.T, 1) * B[:, O[t]]\n",
    "        Ψ[t] = np.argmax(δ[t-1] * A.T, 1)\n",
    "        \n",
    "    return δ, Ψ"
   ]
  },
  {
   "cell_type": "code",
   "execution_count": 97,
   "metadata": {},
   "outputs": [],
   "source": [
    "def Vitetbi_path(δ, Ψ):\n",
    "    \n",
    "    #推最优路径\n",
    "    \n",
    "    T = δ.shape[0]\n",
    "    i = np.zeros(T, dtype = int)\n",
    "    P = np.max(δ[-1])\n",
    "    i[-1] = np.argmax(δ[-1])\n",
    "    \n",
    "    for j in reversed(range(T-1)):\n",
    "        i[j] = Ψ[j+1, i[j+1]]\n",
    "    \n",
    "    return i "
   ]
  },
  {
   "cell_type": "code",
   "execution_count": 87,
   "metadata": {},
   "outputs": [],
   "source": [
    "mat1, mat2 = Viterbi_Algo(trans_mat, prob_mat, probs, observe)"
   ]
  },
  {
   "cell_type": "code",
   "execution_count": 99,
   "metadata": {},
   "outputs": [
    {
     "data": {
      "text/plain": [
       "array([3, 2, 1, 0, 1, 2])"
      ]
     },
     "execution_count": 99,
     "metadata": {},
     "output_type": "execute_result"
    }
   ],
   "source": [
    "Vitetbi_path(mat1, mat2)"
   ]
  },
  {
   "cell_type": "code",
   "execution_count": null,
   "metadata": {},
   "outputs": [],
   "source": []
  },
  {
   "cell_type": "code",
   "execution_count": null,
   "metadata": {},
   "outputs": [],
   "source": []
  }
 ],
 "metadata": {
  "kernelspec": {
   "display_name": "Python 3",
   "language": "python",
   "name": "python3"
  },
  "language_info": {
   "codemirror_mode": {
    "name": "ipython",
    "version": 3
   },
   "file_extension": ".py",
   "mimetype": "text/x-python",
   "name": "python",
   "nbconvert_exporter": "python",
   "pygments_lexer": "ipython3",
   "version": "3.8.5"
  }
 },
 "nbformat": 4,
 "nbformat_minor": 4
}
