{
 "cells": [
  {
   "cell_type": "markdown",
   "metadata": {},
   "source": [
    "Lesson2 线性规划"
   ]
  },
  {
   "cell_type": "code",
   "execution_count": 1,
   "metadata": {},
   "outputs": [],
   "source": [
    "import numpy as np\n",
    "import pandas as pd\n",
    "import matplotlib.pyplot as plt"
   ]
  },
  {
   "cell_type": "markdown",
   "metadata": {},
   "source": [
    "    线性规划同样可以解决分类问题。感知机不能解决线性不可分点集的分类问题，此时可以借助线性规划的思想建模。"
   ]
  },
  {
   "cell_type": "markdown",
   "metadata": {},
   "source": [
    "对于二维的对象："
   ]
  },
  {
   "cell_type": "code",
   "execution_count": 2,
   "metadata": {},
   "outputs": [
    {
     "data": {
      "text/html": [
       "<div>\n",
       "<style scoped>\n",
       "    .dataframe tbody tr th:only-of-type {\n",
       "        vertical-align: middle;\n",
       "    }\n",
       "\n",
       "    .dataframe tbody tr th {\n",
       "        vertical-align: top;\n",
       "    }\n",
       "\n",
       "    .dataframe thead th {\n",
       "        text-align: right;\n",
       "    }\n",
       "</style>\n",
       "<table border=\"1\" class=\"dataframe\">\n",
       "  <thead>\n",
       "    <tr style=\"text-align: right;\">\n",
       "      <th></th>\n",
       "      <th>x1</th>\n",
       "      <th>x2</th>\n",
       "      <th>y</th>\n",
       "    </tr>\n",
       "  </thead>\n",
       "  <tbody>\n",
       "    <tr>\n",
       "      <th>0</th>\n",
       "      <td>0.624844</td>\n",
       "      <td>4.665120</td>\n",
       "      <td>1</td>\n",
       "    </tr>\n",
       "    <tr>\n",
       "      <th>1</th>\n",
       "      <td>0.972669</td>\n",
       "      <td>8.435284</td>\n",
       "      <td>1</td>\n",
       "    </tr>\n",
       "    <tr>\n",
       "      <th>2</th>\n",
       "      <td>0.045527</td>\n",
       "      <td>6.376422</td>\n",
       "      <td>1</td>\n",
       "    </tr>\n",
       "    <tr>\n",
       "      <th>3</th>\n",
       "      <td>0.737396</td>\n",
       "      <td>6.289846</td>\n",
       "      <td>1</td>\n",
       "    </tr>\n",
       "    <tr>\n",
       "      <th>4</th>\n",
       "      <td>0.366674</td>\n",
       "      <td>8.262366</td>\n",
       "      <td>1</td>\n",
       "    </tr>\n",
       "    <tr>\n",
       "      <th>5</th>\n",
       "      <td>0.596962</td>\n",
       "      <td>6.740651</td>\n",
       "      <td>1</td>\n",
       "    </tr>\n",
       "    <tr>\n",
       "      <th>6</th>\n",
       "      <td>0.334078</td>\n",
       "      <td>7.359800</td>\n",
       "      <td>1</td>\n",
       "    </tr>\n",
       "    <tr>\n",
       "      <th>7</th>\n",
       "      <td>0.983794</td>\n",
       "      <td>8.091522</td>\n",
       "      <td>1</td>\n",
       "    </tr>\n",
       "    <tr>\n",
       "      <th>8</th>\n",
       "      <td>0.082156</td>\n",
       "      <td>8.387285</td>\n",
       "      <td>1</td>\n",
       "    </tr>\n",
       "    <tr>\n",
       "      <th>9</th>\n",
       "      <td>0.667364</td>\n",
       "      <td>8.336362</td>\n",
       "      <td>1</td>\n",
       "    </tr>\n",
       "    <tr>\n",
       "      <th>10</th>\n",
       "      <td>0.881142</td>\n",
       "      <td>7.814533</td>\n",
       "      <td>1</td>\n",
       "    </tr>\n",
       "    <tr>\n",
       "      <th>11</th>\n",
       "      <td>0.279770</td>\n",
       "      <td>6.179875</td>\n",
       "      <td>1</td>\n",
       "    </tr>\n",
       "    <tr>\n",
       "      <th>12</th>\n",
       "      <td>0.734950</td>\n",
       "      <td>8.579272</td>\n",
       "      <td>1</td>\n",
       "    </tr>\n",
       "    <tr>\n",
       "      <th>13</th>\n",
       "      <td>0.027822</td>\n",
       "      <td>6.570845</td>\n",
       "      <td>1</td>\n",
       "    </tr>\n",
       "    <tr>\n",
       "      <th>14</th>\n",
       "      <td>0.685674</td>\n",
       "      <td>6.064338</td>\n",
       "      <td>1</td>\n",
       "    </tr>\n",
       "    <tr>\n",
       "      <th>15</th>\n",
       "      <td>0.572462</td>\n",
       "      <td>6.129198</td>\n",
       "      <td>1</td>\n",
       "    </tr>\n",
       "    <tr>\n",
       "      <th>16</th>\n",
       "      <td>0.678224</td>\n",
       "      <td>7.359495</td>\n",
       "      <td>1</td>\n",
       "    </tr>\n",
       "    <tr>\n",
       "      <th>17</th>\n",
       "      <td>0.642637</td>\n",
       "      <td>7.955443</td>\n",
       "      <td>1</td>\n",
       "    </tr>\n",
       "    <tr>\n",
       "      <th>18</th>\n",
       "      <td>0.819248</td>\n",
       "      <td>7.858515</td>\n",
       "      <td>1</td>\n",
       "    </tr>\n",
       "    <tr>\n",
       "      <th>19</th>\n",
       "      <td>0.721929</td>\n",
       "      <td>7.838655</td>\n",
       "      <td>1</td>\n",
       "    </tr>\n",
       "    <tr>\n",
       "      <th>20</th>\n",
       "      <td>0.101490</td>\n",
       "      <td>3.105834</td>\n",
       "      <td>-1</td>\n",
       "    </tr>\n",
       "    <tr>\n",
       "      <th>21</th>\n",
       "      <td>0.272660</td>\n",
       "      <td>5.085531</td>\n",
       "      <td>-1</td>\n",
       "    </tr>\n",
       "    <tr>\n",
       "      <th>22</th>\n",
       "      <td>0.976879</td>\n",
       "      <td>6.378537</td>\n",
       "      <td>-1</td>\n",
       "    </tr>\n",
       "    <tr>\n",
       "      <th>23</th>\n",
       "      <td>0.528310</td>\n",
       "      <td>5.553339</td>\n",
       "      <td>-1</td>\n",
       "    </tr>\n",
       "    <tr>\n",
       "      <th>24</th>\n",
       "      <td>0.052054</td>\n",
       "      <td>3.610105</td>\n",
       "      <td>-1</td>\n",
       "    </tr>\n",
       "    <tr>\n",
       "      <th>25</th>\n",
       "      <td>0.812407</td>\n",
       "      <td>5.750779</td>\n",
       "      <td>-1</td>\n",
       "    </tr>\n",
       "    <tr>\n",
       "      <th>26</th>\n",
       "      <td>0.080370</td>\n",
       "      <td>5.287994</td>\n",
       "      <td>-1</td>\n",
       "    </tr>\n",
       "    <tr>\n",
       "      <th>27</th>\n",
       "      <td>0.985496</td>\n",
       "      <td>7.103020</td>\n",
       "      <td>-1</td>\n",
       "    </tr>\n",
       "    <tr>\n",
       "      <th>28</th>\n",
       "      <td>0.237568</td>\n",
       "      <td>3.919674</td>\n",
       "      <td>-1</td>\n",
       "    </tr>\n",
       "    <tr>\n",
       "      <th>29</th>\n",
       "      <td>0.064917</td>\n",
       "      <td>4.422033</td>\n",
       "      <td>-1</td>\n",
       "    </tr>\n",
       "    <tr>\n",
       "      <th>30</th>\n",
       "      <td>0.382241</td>\n",
       "      <td>6.741551</td>\n",
       "      <td>-1</td>\n",
       "    </tr>\n",
       "    <tr>\n",
       "      <th>31</th>\n",
       "      <td>0.570435</td>\n",
       "      <td>6.073281</td>\n",
       "      <td>-1</td>\n",
       "    </tr>\n",
       "    <tr>\n",
       "      <th>32</th>\n",
       "      <td>0.197126</td>\n",
       "      <td>3.265195</td>\n",
       "      <td>-1</td>\n",
       "    </tr>\n",
       "    <tr>\n",
       "      <th>33</th>\n",
       "      <td>0.661854</td>\n",
       "      <td>5.264232</td>\n",
       "      <td>-1</td>\n",
       "    </tr>\n",
       "    <tr>\n",
       "      <th>34</th>\n",
       "      <td>0.038046</td>\n",
       "      <td>3.565946</td>\n",
       "      <td>-1</td>\n",
       "    </tr>\n",
       "    <tr>\n",
       "      <th>35</th>\n",
       "      <td>0.508995</td>\n",
       "      <td>5.469332</td>\n",
       "      <td>-1</td>\n",
       "    </tr>\n",
       "    <tr>\n",
       "      <th>36</th>\n",
       "      <td>0.073680</td>\n",
       "      <td>5.416190</td>\n",
       "      <td>-1</td>\n",
       "    </tr>\n",
       "    <tr>\n",
       "      <th>37</th>\n",
       "      <td>0.426488</td>\n",
       "      <td>5.137265</td>\n",
       "      <td>-1</td>\n",
       "    </tr>\n",
       "    <tr>\n",
       "      <th>38</th>\n",
       "      <td>0.473335</td>\n",
       "      <td>4.212665</td>\n",
       "      <td>-1</td>\n",
       "    </tr>\n",
       "    <tr>\n",
       "      <th>39</th>\n",
       "      <td>0.601265</td>\n",
       "      <td>5.779893</td>\n",
       "      <td>-1</td>\n",
       "    </tr>\n",
       "  </tbody>\n",
       "</table>\n",
       "</div>"
      ],
      "text/plain": [
       "          x1        x2  y\n",
       "0   0.624844  4.665120  1\n",
       "1   0.972669  8.435284  1\n",
       "2   0.045527  6.376422  1\n",
       "3   0.737396  6.289846  1\n",
       "4   0.366674  8.262366  1\n",
       "5   0.596962  6.740651  1\n",
       "6   0.334078  7.359800  1\n",
       "7   0.983794  8.091522  1\n",
       "8   0.082156  8.387285  1\n",
       "9   0.667364  8.336362  1\n",
       "10  0.881142  7.814533  1\n",
       "11  0.279770  6.179875  1\n",
       "12  0.734950  8.579272  1\n",
       "13  0.027822  6.570845  1\n",
       "14  0.685674  6.064338  1\n",
       "15  0.572462  6.129198  1\n",
       "16  0.678224  7.359495  1\n",
       "17  0.642637  7.955443  1\n",
       "18  0.819248  7.858515  1\n",
       "19  0.721929  7.838655  1\n",
       "20  0.101490  3.105834 -1\n",
       "21  0.272660  5.085531 -1\n",
       "22  0.976879  6.378537 -1\n",
       "23  0.528310  5.553339 -1\n",
       "24  0.052054  3.610105 -1\n",
       "25  0.812407  5.750779 -1\n",
       "26  0.080370  5.287994 -1\n",
       "27  0.985496  7.103020 -1\n",
       "28  0.237568  3.919674 -1\n",
       "29  0.064917  4.422033 -1\n",
       "30  0.382241  6.741551 -1\n",
       "31  0.570435  6.073281 -1\n",
       "32  0.197126  3.265195 -1\n",
       "33  0.661854  5.264232 -1\n",
       "34  0.038046  3.565946 -1\n",
       "35  0.508995  5.469332 -1\n",
       "36  0.073680  5.416190 -1\n",
       "37  0.426488  5.137265 -1\n",
       "38  0.473335  4.212665 -1\n",
       "39  0.601265  5.779893 -1"
      ]
     },
     "execution_count": 2,
     "metadata": {},
     "output_type": "execute_result"
    }
   ],
   "source": [
    "x1 = np.random.uniform(0,1,20)\n",
    "diff1 = np.random.normal(0.8,1,20)\n",
    "y1 = 2*x1 + 5 + diff1\n",
    "df1 = pd.DataFrame((x1,y1),index = ['x1','x2']).T\n",
    "df1['y'] = 1\n",
    "\n",
    "x2 = np.random.uniform(0,1,20)\n",
    "diff2 = np.random.normal(0.8,1,20)\n",
    "y2 = 2*x2 + 5 - diff2\n",
    "df2 = pd.DataFrame((x2,y2),index = ['x1','x2']).T\n",
    "df2['y'] = -1\n",
    "\n",
    "data = pd.concat([df1,df2],ignore_index = True)\n",
    "data"
   ]
  },
  {
   "cell_type": "code",
   "execution_count": 3,
   "metadata": {},
   "outputs": [
    {
     "data": {
      "text/plain": [
       "<function matplotlib.pyplot.show(close=None, block=None)>"
      ]
     },
     "execution_count": 3,
     "metadata": {},
     "output_type": "execute_result"
    },
    {
     "data": {
      "image/png": "[encoded data removed]",
      "text/plain": [
       "<Figure size 432x288 with 1 Axes>"
      ]
     },
     "metadata": {
      "needs_background": "light"
     },
     "output_type": "display_data"
    }
   ],
   "source": [
    "positive_x = data[['x1','x2']][data.y == 1]\n",
    "negative_x = data[['x1','x2']][data.y != 1]\n",
    "plt.scatter(positive_x['x1'] , positive_x['x2'] , color = 'r')\n",
    "plt.scatter(negative_x['x1'] , negative_x['x2'] , color = 'b')\n",
    "plt.title('Random Sample')\n",
    "plt.show"
   ]
  },
  {
   "cell_type": "markdown",
   "metadata": {},
   "source": [
    "使用pulp包来解决线性规划问题"
   ]
  },
  {
   "cell_type": "code",
   "execution_count": 4,
   "metadata": {},
   "outputs": [],
   "source": [
    "import pulp"
   ]
  },
  {
   "cell_type": "markdown",
   "metadata": {},
   "source": [
    "初始化一个线性规划问题，起名叫“LP”，目标是最小化解"
   ]
  },
  {
   "cell_type": "code",
   "execution_count": 5,
   "metadata": {},
   "outputs": [],
   "source": [
    "LP = pulp.LpProblem(\"LP\", pulp.LpMinimize)"
   ]
  },
  {
   "cell_type": "code",
   "execution_count": 6,
   "metadata": {},
   "outputs": [
    {
     "data": {
      "text/plain": [
       "(40, 3)"
      ]
     },
     "execution_count": 6,
     "metadata": {},
     "output_type": "execute_result"
    }
   ],
   "source": [
    "data.shape"
   ]
  },
  {
   "cell_type": "markdown",
   "metadata": {},
   "source": [
    "定义决策变量"
   ]
  },
  {
   "cell_type": "code",
   "execution_count": 7,
   "metadata": {},
   "outputs": [],
   "source": [
    "w = pulp.LpVariable.dicts(\"w\" , (i for i in range(data.shape[1]-1)) , \n",
    "                          None , cat='Continuous')\n",
    "b = pulp.LpVariable(\"b\" , None , None , cat='Continuous')\n",
    "ξ = pulp.LpVariable.dicts(\"loss\" , (i for i in range(len(data))) ,\n",
    "                          lowBound = 0 , cat = 'Continuous')"
   ]
  },
  {
   "cell_type": "markdown",
   "metadata": {},
   "source": [
    "定义目标函数"
   ]
  },
  {
   "cell_type": "code",
   "execution_count": 8,
   "metadata": {},
   "outputs": [],
   "source": [
    "LP += sum(ξ[i] for i in range(len(data)))"
   ]
  },
  {
   "cell_type": "markdown",
   "metadata": {},
   "source": [
    "定义约束函数集"
   ]
  },
  {
   "cell_type": "code",
   "execution_count": 9,
   "metadata": {},
   "outputs": [],
   "source": [
    "for i in range(len(data)):\n",
    "    LP += (w[0]*data['x1'][i] + w[1]*data['x2'][i] + b ) * data['y'][i] + ξ[i] >= 1+0.00000001"
   ]
  },
  {
   "cell_type": "code",
   "execution_count": 10,
   "metadata": {},
   "outputs": [
    {
     "name": "stdout",
     "output_type": "stream",
     "text": [
      "Optimal\n"
     ]
    }
   ],
   "source": [
    "LP.solve()\n",
    "print(pulp.LpStatus[LP.status])"
   ]
  },
  {
   "cell_type": "code",
   "execution_count": 11,
   "metadata": {},
   "outputs": [
    {
     "name": "stdout",
     "output_type": "stream",
     "text": [
      "b = -7.0162681 \n",
      "\n",
      "loss_0 = 3.3198541 \n",
      "\n",
      "loss_1 = 0.0 \n",
      "\n",
      "loss_10 = 0.0 \n",
      "\n",
      "loss_11 = 0.71256239 \n",
      "\n",
      "loss_12 = 0.0 \n",
      "\n",
      "loss_13 = 0.0 \n",
      "\n",
      "loss_14 = 1.6612185 \n",
      "\n",
      "loss_15 = 1.3551384 \n",
      "\n",
      "loss_16 = 0.0 \n",
      "\n",
      "loss_17 = 0.0 \n",
      "\n",
      "loss_18 = 0.0 \n",
      "\n",
      "loss_19 = 0.0 \n",
      "\n",
      "loss_2 = 0.0 \n",
      "\n",
      "loss_20 = 0.0 \n",
      "\n",
      "loss_21 = 0.0 \n",
      "\n",
      "loss_22 = 0.16300327 \n",
      "\n",
      "loss_23 = 0.0 \n",
      "\n",
      "loss_24 = 0.0 \n",
      "\n",
      "loss_25 = 0.0 \n",
      "\n",
      "loss_26 = 0.54748186 \n",
      "\n",
      "loss_27 = 1.0670011 \n",
      "\n",
      "loss_28 = 0.0 \n",
      "\n",
      "loss_29 = 0.0 \n",
      "\n",
      "loss_3 = 1.4766994 \n",
      "\n",
      "loss_30 = 1.7990738 \n",
      "\n",
      "loss_31 = 0.57778201 \n",
      "\n",
      "loss_32 = 0.0 \n",
      "\n",
      "loss_33 = 0.0 \n",
      "\n",
      "loss_34 = 0.0 \n",
      "\n",
      "loss_35 = 0.0 \n",
      "\n",
      "loss_36 = 0.723669 \n",
      "\n",
      "loss_37 = 0.0 \n",
      "\n",
      "loss_38 = 0.0 \n",
      "\n",
      "loss_39 = 0.14390478 \n",
      "\n",
      "loss_4 = 0.0 \n",
      "\n",
      "loss_5 = 0.62620627 \n",
      "\n",
      "loss_6 = 0.0 \n",
      "\n",
      "loss_7 = 0.0 \n",
      "\n",
      "loss_8 = 0.0 \n",
      "\n",
      "loss_9 = 0.0 \n",
      "\n",
      "w_0 = -1.9752846 \n",
      "\n",
      "w_1 = 1.2712767 \n",
      "\n"
     ]
    }
   ],
   "source": [
    "for v in LP.variables():\n",
    "    print(v.name , '=' , v.varValue , '\\n')"
   ]
  },
  {
   "cell_type": "code",
   "execution_count": 12,
   "metadata": {},
   "outputs": [],
   "source": [
    "ω1 = w[0].varValue\n",
    "ω2 = w[1].varValue\n",
    "b = b.varValue"
   ]
  },
  {
   "cell_type": "code",
   "execution_count": 13,
   "metadata": {},
   "outputs": [
    {
     "data": {
      "image/png": "[encoded data removed]",
      "text/plain": [
       "<Figure size 432x288 with 1 Axes>"
      ]
     },
     "metadata": {
      "needs_background": "light"
     },
     "output_type": "display_data"
    }
   ],
   "source": [
    "x1 = np.linspace(0,1)\n",
    "x2 = - ( ω1 * x1 + b ) / ω2\n",
    "plt.plot(x1 , x2)\n",
    "positive_x = data[['x1','x2']][data.y == 1]\n",
    "negative_x = data[['x1','x2']][data.y != 1]\n",
    "plt.scatter(positive_x['x1'] , positive_x['x2'] , color = 'r')\n",
    "plt.scatter(negative_x['x1'] , negative_x['x2'] , color = 'b')\n",
    "plt.title('Outcome')\n",
    "plt.show()"
   ]
  },
  {
   "cell_type": "code",
   "execution_count": null,
   "metadata": {},
   "outputs": [],
   "source": []
  }
 ],
 "metadata": {
  "kernelspec": {
   "display_name": "Python 3",
   "language": "python",
   "name": "python3"
  },
  "language_info": {
   "codemirror_mode": {
    "name": "ipython",
    "version": 3
   },
   "file_extension": ".py",
   "mimetype": "text/x-python",
   "name": "python",
   "nbconvert_exporter": "python",
   "pygments_lexer": "ipython3",
   "version": "3.8.5"
  }
 },
 "nbformat": 4,
 "nbformat_minor": 4
}
