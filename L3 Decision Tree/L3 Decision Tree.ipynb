{
 "cells": [
  {
   "cell_type": "markdown",
   "metadata": {},
   "source": [
    "    L3 决策树模型"
   ]
  },
  {
   "cell_type": "markdown",
   "metadata": {},
   "source": [
    "决策树模型是一个非线性的分类模型"
   ]
  },
  {
   "cell_type": "markdown",
   "metadata": {},
   "source": [
    "决策树模型既可以做分类也可以做回归分析"
   ]
  },
  {
   "cell_type": "code",
   "execution_count": 1,
   "metadata": {},
   "outputs": [],
   "source": [
    "import numpy as np\n",
    "import pandas as pd\n",
    "import matplotlib.pyplot as plt"
   ]
  },
  {
   "cell_type": "markdown",
   "metadata": {},
   "source": [
    "经典案例：爱丽丝花的分类"
   ]
  },
  {
   "cell_type": "code",
   "execution_count": 2,
   "metadata": {},
   "outputs": [],
   "source": [
    "iris = pd.read_csv('/Users/nanyueming/Documents/学习/python/机器学习与量化投资/机器学习模型/iris.data' , \n",
    "                   header = None , names = ['x1','x2','x3','x4','type'])"
   ]
  },
  {
   "cell_type": "code",
   "execution_count": 3,
   "metadata": {
    "scrolled": false
   },
   "outputs": [
    {
     "data": {
      "text/html": [
       "<div>\n",
       "<style scoped>\n",
       "    .dataframe tbody tr th:only-of-type {\n",
       "        vertical-align: middle;\n",
       "    }\n",
       "\n",
       "    .dataframe tbody tr th {\n",
       "        vertical-align: top;\n",
       "    }\n",
       "\n",
       "    .dataframe thead th {\n",
       "        text-align: right;\n",
       "    }\n",
       "</style>\n",
       "<table border=\"1\" class=\"dataframe\">\n",
       "  <thead>\n",
       "    <tr style=\"text-align: right;\">\n",
       "      <th></th>\n",
       "      <th>x1</th>\n",
       "      <th>x2</th>\n",
       "      <th>x3</th>\n",
       "      <th>x4</th>\n",
       "      <th>type</th>\n",
       "    </tr>\n",
       "  </thead>\n",
       "  <tbody>\n",
       "    <tr>\n",
       "      <th>0</th>\n",
       "      <td>5.1</td>\n",
       "      <td>3.5</td>\n",
       "      <td>1.4</td>\n",
       "      <td>0.2</td>\n",
       "      <td>Iris-setosa</td>\n",
       "    </tr>\n",
       "    <tr>\n",
       "      <th>1</th>\n",
       "      <td>4.9</td>\n",
       "      <td>3.0</td>\n",
       "      <td>1.4</td>\n",
       "      <td>0.2</td>\n",
       "      <td>Iris-setosa</td>\n",
       "    </tr>\n",
       "    <tr>\n",
       "      <th>2</th>\n",
       "      <td>4.7</td>\n",
       "      <td>3.2</td>\n",
       "      <td>1.3</td>\n",
       "      <td>0.2</td>\n",
       "      <td>Iris-setosa</td>\n",
       "    </tr>\n",
       "    <tr>\n",
       "      <th>3</th>\n",
       "      <td>4.6</td>\n",
       "      <td>3.1</td>\n",
       "      <td>1.5</td>\n",
       "      <td>0.2</td>\n",
       "      <td>Iris-setosa</td>\n",
       "    </tr>\n",
       "    <tr>\n",
       "      <th>4</th>\n",
       "      <td>5.0</td>\n",
       "      <td>3.6</td>\n",
       "      <td>1.4</td>\n",
       "      <td>0.2</td>\n",
       "      <td>Iris-setosa</td>\n",
       "    </tr>\n",
       "  </tbody>\n",
       "</table>\n",
       "</div>"
      ],
      "text/plain": [
       "    x1   x2   x3   x4         type\n",
       "0  5.1  3.5  1.4  0.2  Iris-setosa\n",
       "1  4.9  3.0  1.4  0.2  Iris-setosa\n",
       "2  4.7  3.2  1.3  0.2  Iris-setosa\n",
       "3  4.6  3.1  1.5  0.2  Iris-setosa\n",
       "4  5.0  3.6  1.4  0.2  Iris-setosa"
      ]
     },
     "execution_count": 3,
     "metadata": {},
     "output_type": "execute_result"
    }
   ],
   "source": [
    "iris.head()"
   ]
  },
  {
   "cell_type": "code",
   "execution_count": 4,
   "metadata": {},
   "outputs": [],
   "source": [
    "#将type转为数值型分类\n",
    "#pd.Categorical(iris.type).codes"
   ]
  },
  {
   "cell_type": "markdown",
   "metadata": {},
   "source": [
    "用决策树对数据集进行分类或拟合回归可以使用sklearn包"
   ]
  },
  {
   "cell_type": "markdown",
   "metadata": {},
   "source": [
    "参考：https://blog.csdn.net/healingwounds/article/details/83786729"
   ]
  },
  {
   "cell_type": "code",
   "execution_count": 5,
   "metadata": {},
   "outputs": [],
   "source": [
    "from sklearn import tree"
   ]
  },
  {
   "cell_type": "markdown",
   "metadata": {},
   "source": [
    "ps: sklearn分类算法默认使用CART算法"
   ]
  },
  {
   "cell_type": "markdown",
   "metadata": {},
   "source": [
    "随机划分训练集和测试集"
   ]
  },
  {
   "cell_type": "code",
   "execution_count": 6,
   "metadata": {},
   "outputs": [],
   "source": [
    "x = iris[['x1','x2','x3','x4']]\n",
    "y = iris['type']\n",
    "num = x.shape[0] # 样本总数\n",
    "ratio = 7/3 # 划分比例，训练集数目:测试集数目\n",
    "num_test = int(num/(1+ratio)) # 测试集样本数目\n",
    "num_train = num -  num_test # 训练集样本数目\n",
    "index = np.arange(num) # 产生样本标号\n",
    "np.random.shuffle(index) # 洗牌\n",
    "x_test = x.iloc[index[:num_test]] # 取出洗牌后前 num_test 作为测试集\n",
    "y_test = y.iloc[index[:num_test]]\n",
    "x_train = x.iloc[index[num_test:]] # 剩余作为训练集\n",
    "y_train = y.iloc[index[num_test:]]"
   ]
  },
  {
   "cell_type": "code",
   "execution_count": 7,
   "metadata": {},
   "outputs": [],
   "source": [
    "clf = tree.DecisionTreeClassifier()"
   ]
  },
  {
   "cell_type": "code",
   "execution_count": 8,
   "metadata": {},
   "outputs": [
    {
     "data": {
      "text/plain": [
       "DecisionTreeClassifier()"
      ]
     },
     "execution_count": 8,
     "metadata": {},
     "output_type": "execute_result"
    }
   ],
   "source": [
    "clf.fit(x_test , y_test)"
   ]
  },
  {
   "cell_type": "code",
   "execution_count": 9,
   "metadata": {},
   "outputs": [
    {
     "data": {
      "text/plain": [
       "array(['Iris-setosa', 'Iris-virginica', 'Iris-virginica', 'Iris-setosa',\n",
       "       'Iris-setosa', 'Iris-setosa', 'Iris-setosa', 'Iris-virginica',\n",
       "       'Iris-virginica', 'Iris-versicolor', 'Iris-setosa', 'Iris-setosa',\n",
       "       'Iris-setosa', 'Iris-versicolor', 'Iris-versicolor',\n",
       "       'Iris-virginica', 'Iris-versicolor', 'Iris-versicolor',\n",
       "       'Iris-setosa', 'Iris-virginica', 'Iris-virginica', 'Iris-setosa',\n",
       "       'Iris-setosa', 'Iris-versicolor', 'Iris-setosa', 'Iris-virginica',\n",
       "       'Iris-versicolor', 'Iris-virginica', 'Iris-virginica',\n",
       "       'Iris-virginica', 'Iris-versicolor', 'Iris-versicolor',\n",
       "       'Iris-virginica', 'Iris-virginica', 'Iris-virginica',\n",
       "       'Iris-setosa', 'Iris-setosa', 'Iris-setosa', 'Iris-virginica',\n",
       "       'Iris-versicolor', 'Iris-virginica', 'Iris-setosa', 'Iris-setosa',\n",
       "       'Iris-setosa', 'Iris-versicolor'], dtype=object)"
      ]
     },
     "execution_count": 9,
     "metadata": {},
     "output_type": "execute_result"
    }
   ],
   "source": [
    "clf.predict(x_test)"
   ]
  },
  {
   "cell_type": "markdown",
   "metadata": {},
   "source": [
    "    现在来手撕一个决策树"
   ]
  },
  {
   "cell_type": "markdown",
   "metadata": {},
   "source": [
    "计算熵"
   ]
  },
  {
   "cell_type": "code",
   "execution_count": 10,
   "metadata": {},
   "outputs": [],
   "source": [
    "def CalEntropy(data):\n",
    "    n = len(data)\n",
    "    labels = list(set(data))\n",
    "    \n",
    "    entropy = 0.0\n",
    "    for label in labels:\n",
    "        prob = float( data[data==label].count() / n )\n",
    "        entropy -= prob * np.log(prob)\n",
    "    \n",
    "    return entropy"
   ]
  },
  {
   "cell_type": "markdown",
   "metadata": {},
   "source": [
    "计算信息增益"
   ]
  },
  {
   "cell_type": "code",
   "execution_count": 11,
   "metadata": {},
   "outputs": [],
   "source": [
    "def CalInfogain(df , feature):\n",
    "    ls = list(set(df[feature]))\n",
    "    \n",
    "    NewEntropy = 0.0\n",
    "    for i in range(len(ls)):\n",
    "        data = df[df[feature] == ls[i]].type\n",
    "        NewEntropy += float(len(data) / len(df)) * CalEntropy(data) #条件熵\n",
    "    \n",
    "    infogain = CalEntropy(df.type) - NewEntropy  \n",
    "    \n",
    "    return infogain"
   ]
  },
  {
   "cell_type": "markdown",
   "metadata": {},
   "source": [
    "信息增益比"
   ]
  },
  {
   "cell_type": "code",
   "execution_count": 12,
   "metadata": {},
   "outputs": [],
   "source": [
    "def CalInfogainRatio(df , feature):\n",
    "    \n",
    "    infogain = CalInfogain(df , feature)\n",
    "    entropy = CalEntropy(df[feature])\n",
    "    \n",
    "    gr = infogain / entropy\n",
    "    \n",
    "    return gr"
   ]
  },
  {
   "cell_type": "markdown",
   "metadata": {},
   "source": [
    "获取最大信息增益的特征"
   ]
  },
  {
   "cell_type": "code",
   "execution_count": 13,
   "metadata": {},
   "outputs": [],
   "source": [
    "def GetBestFeature(df , method):\n",
    "    \n",
    "    # method是 ‘infogain’ 或 ‘infogainratio’\n",
    "    \n",
    "    BestInfoGain = 0.0\n",
    "    if method == 'infogain':\n",
    "        for i in range(len(df.columns) - 1):\n",
    "            feature = df.columns[i]\n",
    "            infogain = CalInfogain(df , feature)\n",
    "        \n",
    "            if (infogain > BestInfoGain):\n",
    "                BestInfoGain = infogain\n",
    "                BestFeature = feature\n",
    "    elif method == 'infogainratio':\n",
    "        for i in range(len(df.columns) - 1):\n",
    "            feature = df.columns[i]\n",
    "            gr = CalInfogainRatio(df , feature)\n",
    "        \n",
    "            if (gr > BestInfoGain):\n",
    "                BestInfoGain = gr\n",
    "                BestFeature = feature\n",
    "    else :print('error')\n",
    "        \n",
    "    return BestFeature"
   ]
  },
  {
   "cell_type": "code",
   "execution_count": 14,
   "metadata": {},
   "outputs": [
    {
     "data": {
      "text/plain": [
       "'x3'"
      ]
     },
     "execution_count": 14,
     "metadata": {},
     "output_type": "execute_result"
    }
   ],
   "source": [
    "GetBestFeature(iris , 'infogain')"
   ]
  },
  {
   "cell_type": "code",
   "execution_count": 15,
   "metadata": {},
   "outputs": [
    {
     "data": {
      "text/plain": [
       "'x4'"
      ]
     },
     "execution_count": 15,
     "metadata": {},
     "output_type": "execute_result"
    }
   ],
   "source": [
    "GetBestFeature(iris , 'infogainratio')"
   ]
  },
  {
   "cell_type": "markdown",
   "metadata": {},
   "source": [
    "# ID3算法"
   ]
  },
  {
   "cell_type": "markdown",
   "metadata": {},
   "source": [
    "ID3算法利用信息增益判断节点"
   ]
  },
  {
   "cell_type": "code",
   "execution_count": 17,
   "metadata": {},
   "outputs": [],
   "source": [
    "def ID3Tree(df):\n",
    "    \n",
    "    #1、如果待分类的对象的type仅有一种时，停止分类\n",
    "    #返回该对象的特征\n",
    "    if len(set(df.type)) == 1 :\n",
    "        return list(set(df.type))[0]\n",
    "    \n",
    "    #2、如果遍历所有特征后仍不能完全分类，停止分类,返回最多的type\n",
    "    if len(df.columns) == 2 :\n",
    "        return list(df.type.mode())[0]\n",
    "    \n",
    "    #3、获取最佳特征\n",
    "    bestFeature = GetBestFeature(df , 'infogain')\n",
    "    \n",
    "    #4、种树\n",
    "    DTree = {bestFeature:{}}\n",
    "    bestFeatureValues = list(set(df[bestFeature]))\n",
    "    \n",
    "    for bfv in bestFeatureValues:\n",
    "        subdf = df[df[bestFeature]==bfv]\n",
    "        subdf = subdf.drop(bestFeature , axis = 1)\n",
    "        DTree[bestFeature][bfv] = ID3Tree(subdf)\n",
    "    \n",
    "    return DTree"
   ]
  },
  {
   "cell_type": "code",
   "execution_count": 18,
   "metadata": {
    "scrolled": false
   },
   "outputs": [
    {
     "data": {
      "text/plain": [
       "{'x3': {1.7: 'Iris-setosa',\n",
       "  1.4: 'Iris-setosa',\n",
       "  1.6: 'Iris-setosa',\n",
       "  1.3: 'Iris-setosa',\n",
       "  1.5: 'Iris-setosa',\n",
       "  1.1: 'Iris-setosa',\n",
       "  1.2: 'Iris-setosa',\n",
       "  1.0: 'Iris-setosa',\n",
       "  1.9: 'Iris-setosa',\n",
       "  4.7: 'Iris-versicolor',\n",
       "  4.5: {'x1': {4.9: 'Iris-virginica',\n",
       "    5.6: 'Iris-versicolor',\n",
       "    6.0: 'Iris-versicolor',\n",
       "    5.7: 'Iris-versicolor',\n",
       "    6.4: 'Iris-versicolor',\n",
       "    6.2: 'Iris-versicolor',\n",
       "    5.4: 'Iris-versicolor'}},\n",
       "  4.9: {'x2': {2.5: 'Iris-versicolor',\n",
       "    3.0: 'Iris-virginica',\n",
       "    3.1: 'Iris-versicolor',\n",
       "    2.8: 'Iris-virginica',\n",
       "    2.7: 'Iris-virginica'}},\n",
       "  4.0: 'Iris-versicolor',\n",
       "  5.0: {'x1': {6.3: 'Iris-virginica',\n",
       "    5.7: 'Iris-virginica',\n",
       "    6.7: 'Iris-versicolor',\n",
       "    6.0: 'Iris-virginica'}},\n",
       "  6.0: 'Iris-virginica',\n",
       "  3.5: 'Iris-versicolor',\n",
       "  3.0: 'Iris-versicolor',\n",
       "  4.6: 'Iris-versicolor',\n",
       "  4.4: 'Iris-versicolor',\n",
       "  4.1: 'Iris-versicolor',\n",
       "  5.1: {'x1': {5.8: 'Iris-virginica',\n",
       "    6.9: 'Iris-virginica',\n",
       "    6.3: 'Iris-virginica',\n",
       "    6.0: 'Iris-versicolor',\n",
       "    6.5: 'Iris-virginica',\n",
       "    5.9: 'Iris-virginica'}},\n",
       "  5.9: 'Iris-virginica',\n",
       "  5.6: 'Iris-virginica',\n",
       "  5.5: 'Iris-virginica',\n",
       "  5.4: 'Iris-virginica',\n",
       "  6.6: 'Iris-virginica',\n",
       "  6.1: 'Iris-virginica',\n",
       "  6.9: 'Iris-virginica',\n",
       "  6.4: 'Iris-virginica',\n",
       "  3.6: 'Iris-versicolor',\n",
       "  3.3: 'Iris-versicolor',\n",
       "  3.8: 'Iris-versicolor',\n",
       "  3.7: 'Iris-versicolor',\n",
       "  4.2: 'Iris-versicolor',\n",
       "  4.8: {'x1': {6.0: 'Iris-virginica',\n",
       "    5.9: 'Iris-versicolor',\n",
       "    6.8: 'Iris-versicolor',\n",
       "    6.2: 'Iris-virginica'}},\n",
       "  4.3: 'Iris-versicolor',\n",
       "  5.8: 'Iris-virginica',\n",
       "  5.3: 'Iris-virginica',\n",
       "  5.7: 'Iris-virginica',\n",
       "  5.2: 'Iris-virginica',\n",
       "  6.3: 'Iris-virginica',\n",
       "  6.7: 'Iris-virginica',\n",
       "  3.9: 'Iris-versicolor'}}"
      ]
     },
     "execution_count": 18,
     "metadata": {},
     "output_type": "execute_result"
    }
   ],
   "source": [
    "ID3Tree(iris)"
   ]
  },
  {
   "cell_type": "markdown",
   "metadata": {},
   "source": [
    "# C4.5算法"
   ]
  },
  {
   "cell_type": "markdown",
   "metadata": {},
   "source": [
    "C4.5算法利用信息增益比判断节点"
   ]
  },
  {
   "cell_type": "code",
   "execution_count": 19,
   "metadata": {},
   "outputs": [],
   "source": [
    "def C45Tree(df):\n",
    "    \n",
    "    #1、如果待分类的对象的type仅有一种时，停止分类\n",
    "    #返回该对象的特征\n",
    "    if len(set(df.type)) == 1 :\n",
    "        return list(set(df.type))[0]\n",
    "    \n",
    "    #2、如果遍历所有特征后仍不能完全分类，停止分类,返回最多的type\n",
    "    if len(df.columns) == 2 :\n",
    "        return list(df.type.mode())[0]\n",
    "    \n",
    "    #3、获取最佳特征\n",
    "    bestFeature = GetBestFeature(df , 'infogainratio')\n",
    "    \n",
    "    #4、种树\n",
    "    DTree = {bestFeature:{}}\n",
    "    bestFeatureValues = list(set(df[bestFeature]))\n",
    "    \n",
    "    for bfv in bestFeatureValues:\n",
    "        subdf = df[df[bestFeature]==bfv]\n",
    "        subdf = subdf.drop(bestFeature , axis = 1)\n",
    "        DTree[bestFeature][bfv] = ID3Tree(subdf)\n",
    "    \n",
    "    return DTree"
   ]
  },
  {
   "cell_type": "code",
   "execution_count": 20,
   "metadata": {},
   "outputs": [
    {
     "data": {
      "text/plain": [
       "{'x4': {0.2: 'Iris-setosa',\n",
       "  0.4: 'Iris-setosa',\n",
       "  0.3: 'Iris-setosa',\n",
       "  0.5: 'Iris-setosa',\n",
       "  0.6: 'Iris-setosa',\n",
       "  1.4: {'x2': {2.9: 'Iris-versicolor',\n",
       "    3.1: 'Iris-versicolor',\n",
       "    2.7: 'Iris-versicolor',\n",
       "    3.2: 'Iris-versicolor',\n",
       "    3.0: 'Iris-versicolor',\n",
       "    2.8: 'Iris-versicolor',\n",
       "    2.6: 'Iris-virginica'}},\n",
       "  1.5: {'x3': {4.7: 'Iris-versicolor',\n",
       "    4.2: 'Iris-versicolor',\n",
       "    4.5: 'Iris-versicolor',\n",
       "    4.9: 'Iris-versicolor',\n",
       "    4.6: 'Iris-versicolor',\n",
       "    5.0: 'Iris-virginica',\n",
       "    5.1: 'Iris-virginica'}},\n",
       "  1.3: 'Iris-versicolor',\n",
       "  1.6: {'x1': {7.2: 'Iris-virginica',\n",
       "    6.3: 'Iris-versicolor',\n",
       "    6.0: 'Iris-versicolor'}},\n",
       "  1.0: 'Iris-versicolor',\n",
       "  1.1: 'Iris-versicolor',\n",
       "  2.5: 'Iris-virginica',\n",
       "  2.0: 'Iris-virginica',\n",
       "  2.1: 'Iris-virginica',\n",
       "  1.2: 'Iris-versicolor',\n",
       "  1.7: {'x1': {4.9: 'Iris-virginica', 6.7: 'Iris-versicolor'}},\n",
       "  0.1: 'Iris-setosa',\n",
       "  2.2: 'Iris-virginica',\n",
       "  2.3: 'Iris-virginica',\n",
       "  1.8: {'x1': {5.9: {'x2': {3.0: 'Iris-virginica', 3.2: 'Iris-versicolor'}},\n",
       "    6.7: 'Iris-virginica',\n",
       "    6.5: 'Iris-virginica',\n",
       "    6.3: 'Iris-virginica',\n",
       "    7.3: 'Iris-virginica',\n",
       "    7.2: 'Iris-virginica',\n",
       "    6.2: 'Iris-virginica',\n",
       "    6.1: 'Iris-virginica',\n",
       "    6.4: 'Iris-virginica',\n",
       "    6.0: 'Iris-virginica'}},\n",
       "  1.9: 'Iris-virginica',\n",
       "  2.4: 'Iris-virginica'}}"
      ]
     },
     "execution_count": 20,
     "metadata": {},
     "output_type": "execute_result"
    }
   ],
   "source": [
    "C45Tree(iris)"
   ]
  },
  {
   "cell_type": "code",
   "execution_count": null,
   "metadata": {},
   "outputs": [],
   "source": []
  }
 ],
 "metadata": {
  "kernelspec": {
   "display_name": "Python 3",
   "language": "python",
   "name": "python3"
  },
  "language_info": {
   "codemirror_mode": {
    "name": "ipython",
    "version": 3
   },
   "file_extension": ".py",
   "mimetype": "text/x-python",
   "name": "python",
   "nbconvert_exporter": "python",
   "pygments_lexer": "ipython3",
   "version": "3.8.5"
  }
 },
 "nbformat": 4,
 "nbformat_minor": 4
}
